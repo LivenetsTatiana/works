{
  "nbformat": 4,
  "nbformat_minor": 0,
  "metadata": {
    "colab": {
      "provenance": [],
      "include_colab_link": true
    },
    "kernelspec": {
      "name": "python3",
      "display_name": "Python 3"
    },
    "language_info": {
      "name": "python"
    }
  },
  "cells": [
    {
      "cell_type": "markdown",
      "metadata": {
        "id": "view-in-github",
        "colab_type": "text"
      },
      "source": [
        "<a href=\"https://colab.research.google.com/github/LivenetsTatiana/works/blob/main/ComputerAlgebra/Polynomial.ipynb\" target=\"_parent\"><img src=\"https://colab.research.google.com/assets/colab-badge.svg\" alt=\"Open In Colab\"/></a>"
      ]
    },
    {
      "cell_type": "markdown",
      "source": [
        "# class Polynomial"
      ],
      "metadata": {
        "id": "QHSGM0UdtbnD"
      }
    },
    {
      "cell_type": "code",
      "execution_count": null,
      "metadata": {
        "id": "QQGjhnRN79lh"
      },
      "outputs": [],
      "source": [
        "from IPython.display import display, Math"
      ]
    },
    {
      "cell_type": "code",
      "source": [
        "import numpy as np\n",
        "import matplotlib\n",
        "import matplotlib.pyplot as plt"
      ],
      "metadata": {
        "id": "v8yQdSLREIBU"
      },
      "execution_count": null,
      "outputs": []
    },
    {
      "cell_type": "code",
      "source": [
        "from weakref import KeyedRef\n",
        "class Polynomial:\n",
        "  def __init__(self, coef):\n",
        "    self.coef = coef\n",
        "    self.normalize()\n",
        "    self.deg = len(self.coef) - 1\n",
        "  def normalize(self):\n",
        "    while len(self.coef) > 1 and self.coef[-1] == 0:\n",
        "      self.coef = self.coef[:-1]\n",
        "  def show(self, var=\"x\"):\n",
        "    display(Math(self.tolatex(var)))\n",
        "  def tolatex(self, var=\"x\"):\n",
        "    if self.deg == 0:\n",
        "      return str(self.coef[0])\n",
        "    s = \"\"\n",
        "    for i in range(self.deg, -1, -1):\n",
        "      if self.coef[i] == 0:\n",
        "        continue\n",
        "      # знак\n",
        "      sign = \"\"\n",
        "      if self.coef[i] > 0 and i < self.deg:\n",
        "        sign = \"+\"\n",
        "      elif self.coef[i] < 0:\n",
        "        sign = \"-\"\n",
        "      # value\n",
        "      v = abs(self.coef[i])\n",
        "      value = str(v) if (v != 1 or i == 0) else \"\"\n",
        "      # degree\n",
        "      if i == 0:\n",
        "        degree = \"\"\n",
        "      elif i == 1:\n",
        "        degree = var\n",
        "      else:\n",
        "        degree = f\"{var}^{{{i}}}\"\n",
        "      s += sign + value + degree\n",
        "    return s\n",
        "# derivative\n",
        "  def diff(self, n=1):\n",
        "    P = self\n",
        "    for i in range(n):\n",
        "      if P.deg == 0:\n",
        "        return Polynomial([0])\n",
        "      q = []\n",
        "      for i, c in enumerate(P.coef):\n",
        "        if i > 0:\n",
        "          q.append(i * c)\n",
        "      P = Polynomial(q)\n",
        "    return P\n",
        "  def __call__(self, x):\n",
        "    if isinstance(x, int):\n",
        "      y = 0\n",
        "      for i in range(self.deg, -1, -1):\n",
        "        y = y * x + self.coef[i]\n",
        "      return y\n",
        "    if isinstance(x, Polynomial):\n",
        "      y = Polynomial([])\n",
        "      for i in range(self.deg+1):\n",
        "        y = y + x**i*self.coef[i]\n",
        "      return y\n",
        "  def plot(self, a, b):\n",
        "    dx = (b - a) / 100\n",
        "    X = np.arange(a, b + dx, dx)\n",
        "    Y = self.__call__(X)\n",
        "    plt.plot(X, Y)\n",
        "# ==, !=\n",
        "  def __eq__(self, p):\n",
        "        if (self.deg == p.deg):\n",
        "          for i in range(self.deg):\n",
        "            if (self.coef[i]!=p.coef[i]):\n",
        "              return False\n",
        "          return True\n",
        "        else:\n",
        "          return False\n",
        "  def __ne__(self, p):\n",
        "        if (self.deg == p.deg):\n",
        "          for i in range(self.deg):\n",
        "            if (self.coef[i]!=p.coef[i]):\n",
        "              return True\n",
        "          return False\n",
        "        else:\n",
        "          return True\n",
        "# +, -, *\n",
        "  def __add__(self, p):\n",
        "        if type(p)==int:\n",
        "          p = Polynomial([p])\n",
        "        a = []\n",
        "        n = min(self.deg, p.deg)\n",
        "        for i in range(n+1):\n",
        "          a.append(self.coef[i]+p.coef[i])\n",
        "        if (self.deg > p.deg):\n",
        "          for i in range(n+1, self.deg+1):\n",
        "            a.append(self.coef[i])\n",
        "        else:\n",
        "          for i in range(n+1, p.deg+1):\n",
        "            a.append(p.coef[i])\n",
        "        return Polynomial(a)\n",
        "  def __sub__(self, p):\n",
        "        if type(p)==int:\n",
        "          p = Polynomial([p])\n",
        "        a = []\n",
        "        n = min(self.deg, p.deg)\n",
        "        for i in range(n+1):\n",
        "          a.append(self.coef[i]-p.coef[i])\n",
        "        if (self.deg > p.deg):\n",
        "          for i in range(n+1, self.deg+1):\n",
        "            a.append(self.coef[i])\n",
        "        else:\n",
        "          for i in range(n+1, p.deg+1):\n",
        "            a.append(-p.coef[i])\n",
        "        return Polynomial(a)\n",
        "  def __mul__(self, p):\n",
        "        if (type(p)==int) or (type(p)==float)or isinstance(p, Rational):\n",
        "          p = Polynomial([p])\n",
        "        a = []\n",
        "        x = Polynomial(a)\n",
        "        for i in range(self.deg +1):\n",
        "          a = []\n",
        "          for k in range (i):\n",
        "            a.append(0)\n",
        "          for j in range(p.deg +1):\n",
        "            a.append(self.coef[i]*p.coef[j])\n",
        "          x = x + Polynomial(a)\n",
        "        return x\n",
        "# //, %\n",
        "  def __floordiv__(self, p):\n",
        "        D = self\n",
        "        #print('D ', D.coef)\n",
        "        W = []\n",
        "        for i in range(self.deg-p.deg+1):\n",
        "          W.append(0)\n",
        "        for i in range(self.deg-p.deg+1):\n",
        "          a = []\n",
        "          for j in range(D.deg-p.deg):\n",
        "              a.append(0)\n",
        "          for j in range(p.deg+1):\n",
        "              a.append(p.coef[j])\n",
        "          #print('a ', a)\n",
        "          P1 = Polynomial(a)\n",
        "          k = D.coef[-1]/a[-1]\n",
        "          D = D - P1*k\n",
        "          W[-i-1]=k\n",
        "          #print ('W ', W)\n",
        "          b = []\n",
        "          for j in range(D.deg+1):\n",
        "            b.append(D.coef[j])\n",
        "          #print('D ', b)\n",
        "          D = Polynomial(b)\n",
        "        return Polynomial(W)\n",
        "\n",
        "  def __mod__(self, p):\n",
        "        D = self\n",
        "        #print('D ', D.coef)\n",
        "        W = []\n",
        "        for i in range(self.deg-p.deg+1):\n",
        "          W.append(0)\n",
        "        for i in range(self.deg-p.deg+1):\n",
        "          a = []\n",
        "          for j in range(D.deg-p.deg):\n",
        "              a.append(0)\n",
        "          for j in range(p.deg+1):\n",
        "              a.append(p.coef[j])\n",
        "          #print('a ', a)\n",
        "          P1 = Polynomial(a)\n",
        "          k = D.coef[-1]/a[-1]\n",
        "          D = D - P1*k\n",
        "          W[-i-1]=k\n",
        "          #print ('W ', W)\n",
        "          b = []\n",
        "          for j in range(D.deg+1):\n",
        "            b.append(D.coef[j])\n",
        "          #print('D ', b)\n",
        "          D = Polynomial(b)\n",
        "        return D\n",
        "# **\n",
        "  def __pow__(self, n):\n",
        "        if n==0: return Polynomial([1])\n",
        "        p = self\n",
        "        for i in range(n-1):\n",
        "          p = p * self\n",
        "        return(p)\n",
        "# + - * for right argument\n",
        "  def __radd__(self, p):\n",
        "        if type(p)==int:\n",
        "          p = Polynomial([p])\n",
        "        return self + p\n",
        "  def __rsub__(self, p):\n",
        "        if type(p)==int:\n",
        "          p = Polynomial([p])\n",
        "        return p - self\n",
        "  def __rmul__(self, p):\n",
        "        if type(p)==int:\n",
        "          p = Polynomial([p])\n",
        "        return self * p\n",
        "# - Polynomial\n",
        "  def __neg__(self):\n",
        "        return Polynomial([0])-self\n",
        "# +=, -=, *=\n",
        "  def __iadd__(self, p):\n",
        "        return self + p\n",
        "  def __isub__(self, p):\n",
        "        return self - p\n",
        "  def __imul__(self, p):\n",
        "        return self * p\n",
        "# Integral\n",
        "  def integrate(self, C=0):\n",
        "    a = []\n",
        "    a.append(C)\n",
        "    for i, c in enumerate(self.coef):\n",
        "      if i >= 0:\n",
        "        a.append(c/(i+1))\n",
        "    return Polynomial(a)"
      ],
      "metadata": {
        "id": "64x9EAGKVhXC"
      },
      "execution_count": null,
      "outputs": []
    },
    {
      "cell_type": "markdown",
      "source": [
        "2. Перегрузить операции сравнения ==, != (проверка)"
      ],
      "metadata": {
        "id": "CJJwI2LYXTfX"
      }
    },
    {
      "cell_type": "code",
      "source": [
        "P = Polynomial([0, 0, 1, -2, 1])\n",
        "Q = Polynomial([0, 0, 1, -2, 1])\n",
        "P == Q"
      ],
      "metadata": {
        "colab": {
          "base_uri": "https://localhost:8080/"
        },
        "id": "kCGXwHB4XkXH",
        "outputId": "2aeb3591-0570-408a-a272-7d2f83eea8c9"
      },
      "execution_count": null,
      "outputs": [
        {
          "output_type": "execute_result",
          "data": {
            "text/plain": [
              "True"
            ]
          },
          "metadata": {},
          "execution_count": 7
        }
      ]
    },
    {
      "cell_type": "code",
      "source": [
        "P = Polynomial([0, 0, 1, -2, 1])\n",
        "Q = Polynomial([0, 0, 1, -2, 1])\n",
        "P != Q"
      ],
      "metadata": {
        "colab": {
          "base_uri": "https://localhost:8080/"
        },
        "outputId": "23ec7dcd-c252-4bf2-dc84-87783efac780",
        "id": "bh1_mkE_YHIu"
      },
      "execution_count": null,
      "outputs": [
        {
          "output_type": "execute_result",
          "data": {
            "text/plain": [
              "False"
            ]
          },
          "metadata": {},
          "execution_count": 8
        }
      ]
    },
    {
      "cell_type": "markdown",
      "source": [
        "3. Перегрузить арифметические операции: сложение, вычитание, умножение (проверка)"
      ],
      "metadata": {
        "id": "J6BDR7XHYSer"
      }
    },
    {
      "cell_type": "code",
      "source": [
        "P = Polynomial([1, 2, 1])\n",
        "Q = Polynomial([1, 1])\n",
        "(P+Q).show()\n",
        "(P-Q).show()\n",
        "(P*Q).show()"
      ],
      "metadata": {
        "colab": {
          "base_uri": "https://localhost:8080/",
          "height": 83
        },
        "id": "Na8buyHaYYIe",
        "outputId": "324e68f7-9c7e-43e9-976d-1e2031756d4d"
      },
      "execution_count": null,
      "outputs": [
        {
          "output_type": "display_data",
          "data": {
            "text/plain": [
              "<IPython.core.display.Math object>"
            ],
            "text/latex": "$\\displaystyle x^{2}+3x+2$"
          },
          "metadata": {}
        },
        {
          "output_type": "display_data",
          "data": {
            "text/plain": [
              "<IPython.core.display.Math object>"
            ],
            "text/latex": "$\\displaystyle x^{2}+x$"
          },
          "metadata": {}
        },
        {
          "output_type": "display_data",
          "data": {
            "text/plain": [
              "<IPython.core.display.Math object>"
            ],
            "text/latex": "$\\displaystyle x^{3}+3x^{2}+3x+1$"
          },
          "metadata": {}
        }
      ]
    },
    {
      "cell_type": "markdown",
      "source": [
        "4. Перегрузить операции деления: целая часть от деления // и вычисление остатка %"
      ],
      "metadata": {
        "id": "srb6CUIIhfq0"
      }
    },
    {
      "cell_type": "code",
      "source": [
        "P = Polynomial([2, 3, 3, 1])\n",
        "Q = Polynomial([1, 2, 1])\n",
        "P.show()\n",
        "Q.show()\n",
        "(P // Q).show()\n",
        "(P%Q).show()"
      ],
      "metadata": {
        "colab": {
          "base_uri": "https://localhost:8080/",
          "height": 103
        },
        "outputId": "141f4490-95d2-477c-f8fa-e6d698096431",
        "id": "ZWCdTZ-VhoEE"
      },
      "execution_count": null,
      "outputs": [
        {
          "output_type": "display_data",
          "data": {
            "text/plain": [
              "<IPython.core.display.Math object>"
            ],
            "text/latex": "$\\displaystyle x^{3}+3x^{2}+3x+2$"
          },
          "metadata": {}
        },
        {
          "output_type": "display_data",
          "data": {
            "text/plain": [
              "<IPython.core.display.Math object>"
            ],
            "text/latex": "$\\displaystyle x^{2}+2x+1$"
          },
          "metadata": {}
        },
        {
          "output_type": "display_data",
          "data": {
            "text/plain": [
              "<IPython.core.display.Math object>"
            ],
            "text/latex": "$\\displaystyle x+1.0$"
          },
          "metadata": {}
        },
        {
          "output_type": "display_data",
          "data": {
            "text/plain": [
              "<IPython.core.display.Math object>"
            ],
            "text/latex": "$\\displaystyle 1.0$"
          },
          "metadata": {}
        }
      ]
    },
    {
      "cell_type": "markdown",
      "source": [
        "5. Перегрузить операцию возведения в целую степень (метод __pow__), проверьте коррект-\n",
        "ность реализации при вычислении выражения (x + 1)^20"
      ],
      "metadata": {
        "id": "AjvU-jzLh-no"
      }
    },
    {
      "cell_type": "code",
      "source": [
        "P = Polynomial([1, 1])\n",
        "(P**20).show()"
      ],
      "metadata": {
        "colab": {
          "base_uri": "https://localhost:8080/",
          "height": 61
        },
        "id": "eiYvqYhaiCWE",
        "outputId": "bb0e9146-0918-4b6d-88e0-0ffa1d2cdf02"
      },
      "execution_count": null,
      "outputs": [
        {
          "output_type": "display_data",
          "data": {
            "text/plain": [
              "<IPython.core.display.Math object>"
            ],
            "text/latex": "$\\displaystyle x^{20}+20x^{19}+190x^{18}+1140x^{17}+4845x^{16}+15504x^{15}+38760x^{14}+77520x^{13}+125970x^{12}+167960x^{11}+184756x^{10}+167960x^{9}+125970x^{8}+77520x^{7}+38760x^{6}+15504x^{5}+4845x^{4}+1140x^{3}+190x^{2}+20x+1$"
          },
          "metadata": {}
        }
      ]
    },
    {
      "cell_type": "markdown",
      "source": [
        "6. Перегрузить арифметические операции (сложение, вычитание, умножение) для правого аргумента (__radd__ и т.д.)"
      ],
      "metadata": {
        "id": "Wrn8hBZykST-"
      }
    },
    {
      "cell_type": "code",
      "source": [
        "P = Polynomial([1, 2, 1])\n",
        "Q = Polynomial([1, 1])\n",
        "(P+Q).show()\n",
        "(Q-P).show()\n",
        "(P*Q).show()"
      ],
      "metadata": {
        "colab": {
          "base_uri": "https://localhost:8080/",
          "height": 83
        },
        "outputId": "3f36e971-0351-4e28-ff9e-6346b1edcef9",
        "id": "GmezuHfylntH"
      },
      "execution_count": null,
      "outputs": [
        {
          "output_type": "display_data",
          "data": {
            "text/plain": [
              "<IPython.core.display.Math object>"
            ],
            "text/latex": "$\\displaystyle x^{2}+3x+2$"
          },
          "metadata": {}
        },
        {
          "output_type": "display_data",
          "data": {
            "text/plain": [
              "<IPython.core.display.Math object>"
            ],
            "text/latex": "$\\displaystyle -x^{2}-x$"
          },
          "metadata": {}
        },
        {
          "output_type": "display_data",
          "data": {
            "text/plain": [
              "<IPython.core.display.Math object>"
            ],
            "text/latex": "$\\displaystyle x^{3}+3x^{2}+3x+1$"
          },
          "metadata": {}
        }
      ]
    },
    {
      "cell_type": "markdown",
      "source": [
        "7. Перегрузить операцию унарного минуса."
      ],
      "metadata": {
        "id": "l_ZeGfBul3Oy"
      }
    },
    {
      "cell_type": "code",
      "source": [
        "P = - Polynomial([1, 2, 3])\n",
        "P.show()"
      ],
      "metadata": {
        "colab": {
          "base_uri": "https://localhost:8080/",
          "height": 39
        },
        "id": "6wEwAVLDm5_b",
        "outputId": "5d485450-4e6e-42b0-e986-17801b81b513"
      },
      "execution_count": null,
      "outputs": [
        {
          "output_type": "display_data",
          "data": {
            "text/plain": [
              "<IPython.core.display.Math object>"
            ],
            "text/latex": "$\\displaystyle -3x^{2}-2x-1$"
          },
          "metadata": {}
        }
      ]
    },
    {
      "cell_type": "markdown",
      "source": [
        "8. Перегрузить операции +=, -=, *=."
      ],
      "metadata": {
        "id": "h6xstgnTnGh3"
      }
    },
    {
      "cell_type": "code",
      "source": [
        "P = Polynomial([1, 2, 1])\n",
        "Q = Polynomial([1, 1])\n",
        "P+=Q\n",
        "(P).show()\n",
        "P-=Q\n",
        "(P).show()\n",
        "P*=Q\n",
        "(P).show()"
      ],
      "metadata": {
        "colab": {
          "base_uri": "https://localhost:8080/",
          "height": 83
        },
        "outputId": "9cd71b0d-e360-49d9-89db-11163f56292d",
        "id": "Q_ahECcEnypy"
      },
      "execution_count": null,
      "outputs": [
        {
          "output_type": "display_data",
          "data": {
            "text/plain": [
              "<IPython.core.display.Math object>"
            ],
            "text/latex": "$\\displaystyle x^{2}+3x+2$"
          },
          "metadata": {}
        },
        {
          "output_type": "display_data",
          "data": {
            "text/plain": [
              "<IPython.core.display.Math object>"
            ],
            "text/latex": "$\\displaystyle x^{2}+2x+1$"
          },
          "metadata": {}
        },
        {
          "output_type": "display_data",
          "data": {
            "text/plain": [
              "<IPython.core.display.Math object>"
            ],
            "text/latex": "$\\displaystyle x^{3}+3x^{2}+3x+1$"
          },
          "metadata": {}
        }
      ]
    },
    {
      "cell_type": "markdown",
      "source": [
        "9. Реализовать выполнение арифметических действий над многочленами, в которых одним из операндов является целое число."
      ],
      "metadata": {
        "id": "hRZLFocCoTnj"
      }
    },
    {
      "cell_type": "code",
      "source": [
        "P = Polynomial([1, 2, 3])\n",
        "(P + 5).show()\n",
        "(P * 5).show()\n",
        "(P - 5).show()\n",
        "(5 + P).show()\n",
        "(5 * P).show()\n",
        "(5 - P).show()\n",
        "P += 2\n",
        "P.show()"
      ],
      "metadata": {
        "colab": {
          "base_uri": "https://localhost:8080/",
          "height": 170
        },
        "id": "RydRz8PtMDC0",
        "outputId": "e03212d0-8e29-4629-a754-7784a4e23fac"
      },
      "execution_count": null,
      "outputs": [
        {
          "output_type": "display_data",
          "data": {
            "text/plain": [
              "<IPython.core.display.Math object>"
            ],
            "text/latex": "$\\displaystyle 3x^{2}+2x+6$"
          },
          "metadata": {}
        },
        {
          "output_type": "display_data",
          "data": {
            "text/plain": [
              "<IPython.core.display.Math object>"
            ],
            "text/latex": "$\\displaystyle 15x^{2}+10x+5$"
          },
          "metadata": {}
        },
        {
          "output_type": "display_data",
          "data": {
            "text/plain": [
              "<IPython.core.display.Math object>"
            ],
            "text/latex": "$\\displaystyle 3x^{2}+2x-4$"
          },
          "metadata": {}
        },
        {
          "output_type": "display_data",
          "data": {
            "text/plain": [
              "<IPython.core.display.Math object>"
            ],
            "text/latex": "$\\displaystyle 3x^{2}+2x+6$"
          },
          "metadata": {}
        },
        {
          "output_type": "display_data",
          "data": {
            "text/plain": [
              "<IPython.core.display.Math object>"
            ],
            "text/latex": "$\\displaystyle 15x^{2}+10x+5$"
          },
          "metadata": {}
        },
        {
          "output_type": "display_data",
          "data": {
            "text/plain": [
              "<IPython.core.display.Math object>"
            ],
            "text/latex": "$\\displaystyle -3x^{2}-2x+4$"
          },
          "metadata": {}
        },
        {
          "output_type": "display_data",
          "data": {
            "text/plain": [
              "<IPython.core.display.Math object>"
            ],
            "text/latex": "$\\displaystyle 3x^{2}+2x+3$"
          },
          "metadata": {}
        }
      ]
    },
    {
      "cell_type": "markdown",
      "source": [
        "10. Реализовать функцию integrate(P, C=0) вычисления первообразной от заданного мно-\n",
        "гочлена, опциональный аргумент C задает константу интегрирования."
      ],
      "metadata": {
        "id": "_4D-ROa-QzSg"
      }
    },
    {
      "cell_type": "code",
      "source": [
        "P = Polynomial([1, 2, 3, 4])\n",
        "P.show()\n",
        "(P.integrate(3)).show()\n"
      ],
      "metadata": {
        "colab": {
          "base_uri": "https://localhost:8080/",
          "height": 61
        },
        "id": "tb3C3mXsQ7HH",
        "outputId": "bdd3fca3-7dcf-4e4a-bc62-1a896cc03bcb"
      },
      "execution_count": null,
      "outputs": [
        {
          "output_type": "display_data",
          "data": {
            "text/plain": [
              "<IPython.core.display.Math object>"
            ],
            "text/latex": "$\\displaystyle 4x^{3}+3x^{2}+2x+1$"
          },
          "metadata": {}
        },
        {
          "output_type": "display_data",
          "data": {
            "text/plain": [
              "<IPython.core.display.Math object>"
            ],
            "text/latex": "$\\displaystyle x^{4}+x^{3}+x^{2}+x+3$"
          },
          "metadata": {}
        }
      ]
    },
    {
      "cell_type": "markdown",
      "source": [
        "11. Измените функцию diff, чтобы она могла вычислять производную заданного порядка n. Параметр n нужно передавать в функцию в виде опционального аргумента со значением по умолчанию n = 1 (производная первого порядка)."
      ],
      "metadata": {
        "id": "0eQs5Y5qN4zq"
      }
    },
    {
      "cell_type": "code",
      "source": [
        "P = Polynomial([1, 2, 3, 4])\n",
        "P.show()\n",
        "P.diff().show()\n",
        "P.diff(2).show()"
      ],
      "metadata": {
        "colab": {
          "base_uri": "https://localhost:8080/",
          "height": 83
        },
        "id": "-ZwSn5O5N4XB",
        "outputId": "69096d7e-6321-4877-9061-7b5a8836a1e2"
      },
      "execution_count": null,
      "outputs": [
        {
          "output_type": "display_data",
          "data": {
            "text/plain": [
              "<IPython.core.display.Math object>"
            ],
            "text/latex": "$\\displaystyle 4x^{3}+3x^{2}+2x+1$"
          },
          "metadata": {}
        },
        {
          "output_type": "display_data",
          "data": {
            "text/plain": [
              "<IPython.core.display.Math object>"
            ],
            "text/latex": "$\\displaystyle 12x^{2}+6x+2$"
          },
          "metadata": {}
        },
        {
          "output_type": "display_data",
          "data": {
            "text/plain": [
              "<IPython.core.display.Math object>"
            ],
            "text/latex": "$\\displaystyle 24x+6$"
          },
          "metadata": {}
        }
      ]
    },
    {
      "cell_type": "markdown",
      "source": [
        "# Бонусные задания"
      ],
      "metadata": {
        "id": "c3qgBZZyuNsF"
      }
    },
    {
      "cell_type": "markdown",
      "source": [
        "12. Реализуйте функцию подстановки P(Q(X)), которая заменяет в многочлене P(x) пе-\n",
        "ременную x на многочлен Q(x). Пример:\n",
        "\n",
        "P(x) = x\n",
        "2 + x + 1, Q(x) = x − 1 ⇒ P(Q(x)) = (x − 1)2 + (x − 1) + 1 = x\n",
        "2 − x + 1."
      ],
      "metadata": {
        "id": "tl1WFa-Z2sg8"
      }
    },
    {
      "cell_type": "code",
      "source": [
        "P = Polynomial([1, 1])\n",
        "X = Polynomial([1, 1])\n",
        "P(X).show()"
      ],
      "metadata": {
        "id": "9KF2VswHuVjI",
        "outputId": "5c20ac5c-d6d4-49ee-9d05-be1a2f4fd129",
        "colab": {
          "base_uri": "https://localhost:8080/"
        }
      },
      "execution_count": null,
      "outputs": [
        {
          "output_type": "display_data",
          "data": {
            "text/plain": [
              "<IPython.core.display.Math object>"
            ],
            "text/latex": "$\\displaystyle x+2$"
          },
          "metadata": {}
        }
      ]
    },
    {
      "cell_type": "markdown",
      "source": [
        "13. Добавьте в функцию factor разложения многочлена на множители объединение оди-\n",
        "наковых множителей в общую степень:\n",
        "\n",
        "x\n",
        "2 + 2x + 1 → (x + 1)2, а не (x + 1)(x + 1)."
      ],
      "metadata": {
        "id": "T6_Im8bP2yAv"
      }
    },
    {
      "cell_type": "code",
      "source": [
        "def factor(P):\n",
        "  # k0 - количество делителей вида x\n",
        "  k0 = 0\n",
        "  while k0 < P.deg and P.coef[k0] == 0:\n",
        "    k0 += 1\n",
        "  Q = P.coef[k0:] # это будет неразлагаемая часть многочлена\n",
        "  X = [] # список делителей-биномов\n",
        "  stop = False\n",
        "  while not stop and len(Q) > 1:\n",
        "    a, b = abs(Q[-1]), abs(Q[0])\n",
        "    A = factorInteger(a)\n",
        "    B = factorInteger(b)\n",
        "    L = makebinomials(A, B)\n",
        "    stop = True\n",
        "    for p in L:\n",
        "      D, R = dividePolynomials(Q, p)\n",
        "      if R == [0]: # поделилось!\n",
        "        Q = D\n",
        "        X.append(p)\n",
        "        stop = False\n",
        "        break\n",
        "  return Q, k0, X\n",
        "\n",
        "def factorInteger(n):\n",
        "  return [i for i in range(1, n + 1) if n % i == 0]\n",
        "\n",
        "def makebinomials(A, B):\n",
        "  L = []\n",
        "  for p in A:\n",
        "    for q in B:\n",
        "      if get_gcd(p, q) == 1:\n",
        "        for s in [-1, 1]:\n",
        "          L.append((s * q, p))\n",
        "  return L\n",
        "\n",
        "def get_gcd(n, m):\n",
        "  while m > 0:\n",
        "    n, m = m, n % m\n",
        "  return n\n",
        "\n",
        "def dividePolynomials(P, Q):\n",
        "  R, D = P[:], [] # R - остаток от деления P на Q, D - целая часть от этого деления\n",
        "  k = len(Q)\n",
        "  while len(R) >= k:\n",
        "    if R[-1] % Q[-1] != 0: # целочисленное деление невозможно\n",
        "      return None, None\n",
        "    w = R[-1] // Q[-1]\n",
        "    for i in range(1, k + 1):\n",
        "      R[-i] -= w * Q[-i]\n",
        "    R, D = R[:-1], [w] + D\n",
        "  return D, R"
      ],
      "metadata": {
        "id": "BPtJaATCLozr"
      },
      "execution_count": null,
      "outputs": []
    },
    {
      "cell_type": "code",
      "source": [
        "def showFactors(Q, k, X, var = \"x\"):\n",
        "  if k == 0 and X == []:\n",
        "    s = Polynomial(Q).tolatex(var)\n",
        "  else:\n",
        "    if len(Q) > 1:\n",
        "      s = f\"({Polynomial(Q).tolatex(var)})\"\n",
        "    elif Q[0] not in [-1, 1]:\n",
        "      s = str(Q[0])\n",
        "    elif Q[0] == -1:\n",
        "      s = \"-\"\n",
        "    else:\n",
        "      s = \"\"\n",
        "    Y = []\n",
        "    L = []\n",
        "    flag = True\n",
        "    for x in X:\n",
        "      for i in range(len(Y)):\n",
        "        if Y[i]==x:\n",
        "          L[i]+=1\n",
        "          flag = False\n",
        "      if flag:\n",
        "        Y.append(x)\n",
        "        L.append(1)\n",
        "    for i in range(len(Y)):\n",
        "      if L[i]==1:\n",
        "        s += f\"({Polynomial(Y[i]).tolatex(var)})\"\n",
        "      else:\n",
        "        s += f\"({Polynomial(Y[i]).tolatex(var)})^{{{L[i]}}}\"\n",
        "    if k == 1:\n",
        "      s += var\n",
        "    elif k > 1:\n",
        "      s += f\"{var}^{{{k}}}\"\n",
        "  display(Math(s))"
      ],
      "metadata": {
        "id": "zdi74kSENIQG"
      },
      "execution_count": null,
      "outputs": []
    },
    {
      "cell_type": "code",
      "source": [
        "P = Polynomial([0, 0, 12, 10, 2])\n",
        "Q, k, X = factor(P)\n",
        "showFactors(Q, k, X)"
      ],
      "metadata": {
        "colab": {
          "base_uri": "https://localhost:8080/"
        },
        "id": "P1-6s8geOX54",
        "outputId": "b5b13ac2-ba41-4995-f4c7-840aa3f0f5c9"
      },
      "execution_count": null,
      "outputs": [
        {
          "output_type": "display_data",
          "data": {
            "text/plain": [
              "<IPython.core.display.Math object>"
            ],
            "text/latex": "$\\displaystyle 2(x+2)(x+3)x^{2}$"
          },
          "metadata": {}
        }
      ]
    },
    {
      "cell_type": "code",
      "source": [
        "P = Polynomial([0, 0, 1, -2, 1])\n",
        "Q, k, X = factor(P)\n",
        "showFactors(Q, k, X)"
      ],
      "metadata": {
        "colab": {
          "base_uri": "https://localhost:8080/"
        },
        "id": "nkaDVrTqOg9E",
        "outputId": "ad07e94f-d31f-49e6-8be7-b0811fd556a8"
      },
      "execution_count": null,
      "outputs": [
        {
          "output_type": "display_data",
          "data": {
            "text/plain": [
              "<IPython.core.display.Math object>"
            ],
            "text/latex": "$\\displaystyle (x-1)^{2}x^{2}$"
          },
          "metadata": {}
        }
      ]
    },
    {
      "cell_type": "markdown",
      "source": [
        "# class Rational"
      ],
      "metadata": {
        "id": "QU3x_hKstHra"
      }
    },
    {
      "cell_type": "code",
      "source": [
        "from IPython.display import display, Math\n",
        "from math import sqrt, pi, atan"
      ],
      "metadata": {
        "id": "my3pnrWqsS2Y"
      },
      "execution_count": null,
      "outputs": []
    },
    {
      "cell_type": "code",
      "source": [
        "def get_gcd(n, m):\n",
        "    while m > 0:\n",
        "        n, m = m, n % m\n",
        "    return n"
      ],
      "metadata": {
        "id": "XdL4xu-ZsYsz"
      },
      "execution_count": null,
      "outputs": []
    },
    {
      "cell_type": "code",
      "execution_count": null,
      "metadata": {
        "id": "29wQ2kIi935T"
      },
      "outputs": [],
      "source": [
        "class Rational:\n",
        "    def __init__(self, n, m = 1):\n",
        "        self.n = n\n",
        "        self.m = m\n",
        "        self.normalize()\n",
        "    def normalize(self):\n",
        "        if self.n == 0:\n",
        "            self.m = 1\n",
        "            return\n",
        "        if self.m < 0:\n",
        "            self.n *= -1\n",
        "            self.m *= -1\n",
        "        gcd = get_gcd(abs(self.n), self.m)\n",
        "        self.n //= gcd\n",
        "        self.m //= gcd\n",
        "    def __str__(self):\n",
        "        return f\"{self.n}/{self.m}\"\n",
        "\n",
        "    def __add__(self, q):\n",
        "        if isinstance(q, int):\n",
        "          q = Rational(q, 1)\n",
        "        n = self.n * q.m + self.m * q.n\n",
        "        m = self.m * q.m\n",
        "        return Rational(n, m)\n",
        "    def __sub__(self, q):\n",
        "        if isinstance(q, int):\n",
        "          q = Rational(q, 1)\n",
        "        n = self.n * q.m - self.m * q.n\n",
        "        m = self.m * q.m\n",
        "        return Rational(n, m)\n",
        "    def __mul__(self, q):\n",
        "        if isinstance(q, int):\n",
        "          q = Rational(q, 1)\n",
        "        n = self.n * q.n\n",
        "        m = self.m * q.m\n",
        "        return Rational(n, m)\n",
        "    def __truediv__(self, q):\n",
        "        if isinstance(q, int):\n",
        "          q = Rational(q, 1)\n",
        "        if q.n == 0:\n",
        "            raise ZeroDivisionError(\"division rational number by zero\")\n",
        "        n = self.n * q.m\n",
        "        m = self.m * q.n\n",
        "        return Rational(n, m)\n",
        "\n",
        "    def __pow__(self, k):\n",
        "        n = self.n\n",
        "        m = self.m\n",
        "        for i in range(k-1):\n",
        "          n*= self.n\n",
        "          m*= self.m\n",
        "        return Rational(n, m)\n",
        "\n",
        "    def __neg__(self):\n",
        "        return Rational(-self.n, self.m)\n",
        "\n",
        "    def __abs__(self):\n",
        "        if (self.n<=0): return Rational(-self.n, self.m)\n",
        "        else: return Rational(self.n, self.m)\n",
        "\n",
        "    def __iadd__(self, q):\n",
        "        if isinstance(q, int):\n",
        "          q = Rational(q, 1)\n",
        "        n = self.n * q.m + self.m * q.n\n",
        "        m = self.m * q.m\n",
        "        return Rational(n, m)\n",
        "    def __isub__(self, q):\n",
        "        if isinstance(q, int):\n",
        "          q = Rational(q, 1)\n",
        "        n = self.n * q.m - self.m * q.n\n",
        "        m = self.m * q.m\n",
        "        return Rational(n, m)\n",
        "    def __imul__(self, q):\n",
        "        if isinstance(q, int):\n",
        "          q = Rational(q, 1)\n",
        "        n = self.n * q.n\n",
        "        m = self.m * q.m\n",
        "        return Rational(n, m)\n",
        "    def __itruediv__(self, q):\n",
        "        if isinstance(q, int):\n",
        "          q = Rational(q, 1)\n",
        "        if q.n == 0:\n",
        "            raise ZeroDivisionError(\"division rational number by zero\")\n",
        "        n = self.n * q.m\n",
        "        m = self.m * q.n\n",
        "        return Rational(n, m)\n",
        "\n",
        "    def __eq__(self, q):\n",
        "        if isinstance(q, int):\n",
        "          q = Rational(q, 1)\n",
        "        return self.n == q.n and self.m == q.m\n",
        "    def __ne__(self, q):\n",
        "        if isinstance(q, int):\n",
        "          q = Rational(q, 1)\n",
        "        return self.n != q.n or self.m != q.m\n",
        "    def __lt__(self, q):\n",
        "        if isinstance(q, int):\n",
        "          q = Rational(q, 1)\n",
        "        p = self.n*q.m - q.n*self.m\n",
        "        return p<0\n",
        "    def __gt__(self, q):\n",
        "        if isinstance(q, int):\n",
        "          q = Rational(q, 1)\n",
        "        p = self.n*q.m - q.n*self.m\n",
        "        return p>0\n",
        "    def __le__(self, q):\n",
        "        if isinstance(q, int):\n",
        "          q = Rational(q, 1)\n",
        "        p = self.n*q.m - q.n*self.m\n",
        "        return p<=0\n",
        "    def __ge__(self, q):\n",
        "        if isinstance(q, int):\n",
        "          q = Rational(q, 1)\n",
        "        p = self.n*q.m - q.n*self.m\n",
        "        return p>=0\n",
        "\n",
        "    def __float__(self):\n",
        "        return self.n / self.m\n",
        "\n",
        "    def evalf (self, n = 15):\n",
        "        return f\"{(self.n / self.m):.{n}f}\"\n",
        "\n",
        "    def intpart (self):\n",
        "      n = abs(self.n)\n",
        "      m = self.m\n",
        "      ipart = n//m\n",
        "      rpart = n-m*ipart\n",
        "      if self.n<0:\n",
        "        ipart*=-1\n",
        "        rpart*=-1\n",
        "      return ipart, Rational(rpart, m)\n",
        "\n",
        "    def toLatex(self, mixed = False):\n",
        "      if (mixed == False):\n",
        "        if self.m == 1:\n",
        "            return f\"{self.n}\"\n",
        "        elif self.n > 0:\n",
        "            return f\"\\\\dfrac{{{self.n}}}{{{self.m}}}\"\n",
        "        else:\n",
        "            return f\"-\\\\dfrac{{{-self.n}}}{{{self.m}}}\"\n",
        "        return\n",
        "      else:\n",
        "        p = self.intpart()\n",
        "        if self.m == 1:\n",
        "            return f\"{self.n}\"\n",
        "        elif self.n>0:\n",
        "            return f\"{p[0]}\\\\dfrac{{{p[1].n}}}{{{p[1].m}}}\"\n",
        "        else:\n",
        "            return f\"-{abs(p[0])}\\\\dfrac{{{abs(p[1].n)}}}{{{p[1].m}}}\"\n",
        "        return\n",
        "\n",
        "    def show(self, mixed = False):\n",
        "        out = self.toLatex(mixed)\n",
        "        display(Math(out))\n"
      ]
    },
    {
      "cell_type": "markdown",
      "source": [
        "задание 5. Остальные арифметические операции"
      ],
      "metadata": {
        "id": "rN6_aro4Q9aR"
      }
    },
    {
      "cell_type": "code",
      "source": [
        "p = Rational(1, 2) - Rational(1, 3)\n",
        "p.show()\n",
        "p = Rational(1, 2) * Rational(1, 3)\n",
        "p.show()"
      ],
      "metadata": {
        "colab": {
          "base_uri": "https://localhost:8080/",
          "height": 85
        },
        "id": "4UwNS3QuSZWu",
        "outputId": "faa99e28-56e5-413b-a6ac-157a921a0d8a"
      },
      "execution_count": null,
      "outputs": [
        {
          "output_type": "display_data",
          "data": {
            "text/plain": [
              "<IPython.core.display.Math object>"
            ],
            "text/latex": "$\\displaystyle \\dfrac{1}{6}$"
          },
          "metadata": {}
        },
        {
          "output_type": "display_data",
          "data": {
            "text/plain": [
              "<IPython.core.display.Math object>"
            ],
            "text/latex": "$\\displaystyle \\dfrac{1}{6}$"
          },
          "metadata": {}
        }
      ]
    },
    {
      "cell_type": "markdown",
      "source": [
        "Задание 6. Возведение в степень"
      ],
      "metadata": {
        "id": "syDFYMsvOUhP"
      }
    },
    {
      "cell_type": "code",
      "source": [
        "p = Rational(1, 2) ** 2\n",
        "p.show()"
      ],
      "metadata": {
        "colab": {
          "base_uri": "https://localhost:8080/",
          "height": 51
        },
        "id": "DMnk1vOEPCbk",
        "outputId": "401a217f-c1ee-4402-e74d-71ac5d026515"
      },
      "execution_count": null,
      "outputs": [
        {
          "output_type": "display_data",
          "data": {
            "text/plain": [
              "<IPython.core.display.Math object>"
            ],
            "text/latex": "$\\displaystyle \\dfrac{1}{4}$"
          },
          "metadata": {}
        }
      ]
    },
    {
      "cell_type": "markdown",
      "source": [
        "задание 8. Унарный минус"
      ],
      "metadata": {
        "id": "MPJ9fSZaQgoO"
      }
    },
    {
      "cell_type": "code",
      "source": [
        "p = -Rational(1, 2)\n",
        "p.show()"
      ],
      "metadata": {
        "colab": {
          "base_uri": "https://localhost:8080/",
          "height": 51
        },
        "id": "N_oSD9RtVKPb",
        "outputId": "76f5b665-127b-40db-c8f2-d1ae907bb594"
      },
      "execution_count": null,
      "outputs": [
        {
          "output_type": "display_data",
          "data": {
            "text/plain": [
              "<IPython.core.display.Math object>"
            ],
            "text/latex": "$\\displaystyle -\\dfrac{1}{2}$"
          },
          "metadata": {}
        }
      ]
    },
    {
      "cell_type": "markdown",
      "source": [
        "задание 9. Модуль"
      ],
      "metadata": {
        "id": "UCI2Swq2Vtp9"
      }
    },
    {
      "cell_type": "code",
      "source": [
        "p = abs(Rational(-1, 2))\n",
        "p.show()"
      ],
      "metadata": {
        "colab": {
          "base_uri": "https://localhost:8080/",
          "height": 51
        },
        "id": "xY0zK3sTWLhT",
        "outputId": "a22d5712-ee34-4b1e-c255-ea56bc8ae252"
      },
      "execution_count": null,
      "outputs": [
        {
          "output_type": "display_data",
          "data": {
            "text/plain": [
              "<IPython.core.display.Math object>"
            ],
            "text/latex": "$\\displaystyle \\dfrac{1}{2}$"
          },
          "metadata": {}
        }
      ]
    },
    {
      "cell_type": "markdown",
      "source": [
        "задание 10. +=, -=, *=, /="
      ],
      "metadata": {
        "id": "H-IvlcLdWbW0"
      }
    },
    {
      "cell_type": "code",
      "source": [
        "p = Rational(-1, 2)\n",
        "p-= Rational(2, 3)\n",
        "p.show()\n",
        "p = Rational(-1, 2)\n",
        "p+= Rational(2, 3)\n",
        "p.show()\n",
        "p = Rational(-1, 2)\n",
        "p*= Rational(2, 3)\n",
        "p.show()\n",
        "p = Rational(-1, 2)\n",
        "p/= Rational(2, 3)\n",
        "p.show()"
      ],
      "metadata": {
        "colab": {
          "base_uri": "https://localhost:8080/",
          "height": 153
        },
        "id": "aYMAAm5GX_F9",
        "outputId": "c8bf5810-0103-44e9-c44f-933cd7ad0505"
      },
      "execution_count": null,
      "outputs": [
        {
          "output_type": "display_data",
          "data": {
            "text/plain": [
              "<IPython.core.display.Math object>"
            ],
            "text/latex": "$\\displaystyle -\\dfrac{7}{6}$"
          },
          "metadata": {}
        },
        {
          "output_type": "display_data",
          "data": {
            "text/plain": [
              "<IPython.core.display.Math object>"
            ],
            "text/latex": "$\\displaystyle \\dfrac{1}{6}$"
          },
          "metadata": {}
        },
        {
          "output_type": "display_data",
          "data": {
            "text/plain": [
              "<IPython.core.display.Math object>"
            ],
            "text/latex": "$\\displaystyle -\\dfrac{1}{3}$"
          },
          "metadata": {}
        },
        {
          "output_type": "display_data",
          "data": {
            "text/plain": [
              "<IPython.core.display.Math object>"
            ],
            "text/latex": "$\\displaystyle -\\dfrac{3}{4}$"
          },
          "metadata": {}
        }
      ]
    },
    {
      "cell_type": "markdown",
      "source": [
        "задание 11. < <= > >= == !="
      ],
      "metadata": {
        "id": "vxo3qecXYW3b"
      }
    },
    {
      "cell_type": "code",
      "source": [
        "p1 = Rational(1, 2)\n",
        "p2 = Rational(2, 3)\n",
        "print(p1 == p2)\n",
        "print(p1 != p2)\n",
        "print(p1 < p2)\n",
        "print(p1 > p2)\n",
        "print(p1 <= p2)\n",
        "print(p1 >= p2)"
      ],
      "metadata": {
        "colab": {
          "base_uri": "https://localhost:8080/"
        },
        "id": "vD8pV9rpaJ_x",
        "outputId": "f2d5af82-d791-4e99-c1e0-ddb8a3c771fd"
      },
      "execution_count": null,
      "outputs": [
        {
          "output_type": "stream",
          "name": "stdout",
          "text": [
            "False\n",
            "True\n",
            "True\n",
            "False\n",
            "True\n",
            "False\n"
          ]
        }
      ]
    },
    {
      "cell_type": "markdown",
      "source": [
        "задание 12. Преобразование к действительному числу (evalf)"
      ],
      "metadata": {
        "id": "dmRs6JeAiBfU"
      }
    },
    {
      "cell_type": "code",
      "source": [
        "Rational(1, 5).evalf(3)"
      ],
      "metadata": {
        "colab": {
          "base_uri": "https://localhost:8080/",
          "height": 36
        },
        "outputId": "3707e6a1-7054-455c-a7bf-46e7ea02d6d6",
        "id": "OIvUbGz2ijx-"
      },
      "execution_count": null,
      "outputs": [
        {
          "output_type": "execute_result",
          "data": {
            "text/plain": [
              "'0.200'"
            ],
            "application/vnd.google.colaboratory.intrinsic+json": {
              "type": "string"
            }
          },
          "metadata": {},
          "execution_count": 32
        }
      ]
    },
    {
      "cell_type": "markdown",
      "source": [
        "задание 13. Преобразование дроби к смешанной форме, т.е. выделение целой части и остатка"
      ],
      "metadata": {
        "id": "Ta6Mk8P8n0Qt"
      }
    },
    {
      "cell_type": "code",
      "source": [
        "p = Rational(-8, 3).intpart()\n",
        "print('Int part = ', p[0])\n",
        "print('Rational part = ', p[1])\n"
      ],
      "metadata": {
        "colab": {
          "base_uri": "https://localhost:8080/"
        },
        "id": "rZ6KhXAnqHic",
        "outputId": "7bbd082f-d731-4e44-fd8d-207136f38bd1"
      },
      "execution_count": null,
      "outputs": [
        {
          "output_type": "stream",
          "name": "stdout",
          "text": [
            "Int part =  -2\n",
            "Rational part =  -2/3\n"
          ]
        }
      ]
    },
    {
      "cell_type": "markdown",
      "source": [
        "задание 14, 15. Вид Latex и show (со смешанной формой)"
      ],
      "metadata": {
        "id": "z1D9kExR9Zsf"
      }
    },
    {
      "cell_type": "code",
      "source": [
        "print(Rational(4, 3).toLatex(True))\n",
        "Rational(-4, 3).show(True)"
      ],
      "metadata": {
        "colab": {
          "base_uri": "https://localhost:8080/",
          "height": 68
        },
        "id": "6JbVgDpx-PTz",
        "outputId": "b38247b7-b0fe-4987-e061-a18c586c43e7"
      },
      "execution_count": null,
      "outputs": [
        {
          "output_type": "stream",
          "name": "stdout",
          "text": [
            "1\\dfrac{1}{3}\n"
          ]
        },
        {
          "output_type": "display_data",
          "data": {
            "text/plain": [
              "<IPython.core.display.Math object>"
            ],
            "text/latex": "$\\displaystyle -1\\dfrac{1}{3}$"
          },
          "metadata": {}
        }
      ]
    },
    {
      "cell_type": "markdown",
      "source": [
        "Дополнительные задания"
      ],
      "metadata": {
        "id": "_nvR5TZTtFnv"
      }
    },
    {
      "cell_type": "code",
      "execution_count": null,
      "metadata": {
        "id": "RC3bhPV5oS6o"
      },
      "outputs": [],
      "source": [
        "class Complex:\n",
        "    def __init__(self, real, imag):\n",
        "          self.re = real\n",
        "          self.im = imag\n",
        "    def __add__(self, с):\n",
        "          return Complex(self.re+с.re, self.im+с.im)\n",
        "    def __sub__(self, с):\n",
        "          return Complex(self.re-с.re, self.im-с.im)\n",
        "    def __mul__(self, с):\n",
        "          return Complex(self.re*с.re-self.im*с.im, self.re * с.im + self.im * с.re)\n",
        "    def __truediv__(self, с):\n",
        "          m = с.re * с.re + с.im * с.im\n",
        "          return Complex((self.re * с.re + self.im * с.im)/m, (self.im * с.re - self.re * с.im)/m)\n",
        "    def __pow__(self, k):\n",
        "        m = self\n",
        "        for i in range(k-1):\n",
        "          m= m*self\n",
        "        return m\n",
        "    def __str__(self):\n",
        "          if self.im == Rational(0, 1):\n",
        "            return (str)(self.re)\n",
        "          if self.re == Rational(0, 1):\n",
        "            return str(self.im) +f\"i\"\n",
        "          if self.im != Rational(0, 1):\n",
        "            a = (str)(self.re)+'+'\n",
        "            b =(str)(self.im)+f\"i\"\n",
        "            return a +b\n",
        "    def mod(self):\n",
        "          return sqrt(self.re*self.re+self.im*self.im)\n",
        "    def arg(self):\n",
        "          if self.re > Rational(0, 1):\n",
        "            return atan(self.im/self.re)\n",
        "          if self.re < Rational(0, 1):\n",
        "            if (self.m>=Rational(0, 1)):\n",
        "              return pi+atan(self.im/self.re)\n",
        "            else:\n",
        "              return -pi+atan(self.im/self.re)\n",
        "          if self.re == Rational(0, 1):\n",
        "            if (self.m>Rational(0, 1)):\n",
        "              return pi/2\n",
        "            else:\n",
        "              return -pi/2\n",
        "\n",
        "    def show(self, mixed = False):\n",
        "        out_re = self.re.toLatex(mixed)\n",
        "        out_im = self.im.toLatex(mixed)\n",
        "        a = f\"+\"\n",
        "        if (self.im<Rational(0, 1)): a = f\"\"\n",
        "        out=out_re+a+ out_im+f\"i\"\n",
        "        display(Math(out))"
      ]
    },
    {
      "cell_type": "code",
      "source": [
        "c1 = Complex(Rational(1, 2), Rational(1, 3))\n",
        "c2 = Complex(Rational(1, 3), Rational(1, 2))\n",
        "\n",
        "c1.show()\n",
        "(c1**2).show()\n",
        "(c1+c2).show()\n",
        "(c1-c2).show()\n",
        "(c1*c2).show()\n",
        "(c1/c2).show()\n",
        "print(c1.mod())\n",
        "print(c1.arg())"
      ],
      "metadata": {
        "id": "SFJsHDYZxYkf",
        "outputId": "3a9767cb-2b41-4939-8d19-d22b78564137",
        "colab": {
          "base_uri": "https://localhost:8080/",
          "height": 256
        }
      },
      "execution_count": null,
      "outputs": [
        {
          "output_type": "display_data",
          "data": {
            "text/plain": [
              "<IPython.core.display.Math object>"
            ],
            "text/latex": "$\\displaystyle \\dfrac{1}{2}+\\dfrac{1}{3}i$"
          },
          "metadata": {}
        },
        {
          "output_type": "display_data",
          "data": {
            "text/plain": [
              "<IPython.core.display.Math object>"
            ],
            "text/latex": "$\\displaystyle \\dfrac{5}{36}+\\dfrac{1}{3}i$"
          },
          "metadata": {}
        },
        {
          "output_type": "display_data",
          "data": {
            "text/plain": [
              "<IPython.core.display.Math object>"
            ],
            "text/latex": "$\\displaystyle \\dfrac{5}{6}+\\dfrac{5}{6}i$"
          },
          "metadata": {}
        },
        {
          "output_type": "display_data",
          "data": {
            "text/plain": [
              "<IPython.core.display.Math object>"
            ],
            "text/latex": "$\\displaystyle \\dfrac{1}{6}-\\dfrac{1}{6}i$"
          },
          "metadata": {}
        },
        {
          "output_type": "display_data",
          "data": {
            "text/plain": [
              "<IPython.core.display.Math object>"
            ],
            "text/latex": "$\\displaystyle 0+\\dfrac{13}{36}i$"
          },
          "metadata": {}
        },
        {
          "output_type": "display_data",
          "data": {
            "text/plain": [
              "<IPython.core.display.Math object>"
            ],
            "text/latex": "$\\displaystyle \\dfrac{12}{13}-\\dfrac{5}{13}i$"
          },
          "metadata": {}
        },
        {
          "output_type": "stream",
          "name": "stdout",
          "text": [
            "0.6009252125773316\n",
            "0.5880026035475675\n"
          ]
        }
      ]
    },
    {
      "cell_type": "markdown",
      "source": [
        "# Дополнительные задания"
      ],
      "metadata": {
        "id": "loXiwXNnwLyp"
      }
    },
    {
      "cell_type": "markdown",
      "source": [
        "1. Обеспечьте совместимость классов Polynomial и Rational для представления много-\n",
        "членов с рациональными коэффициентами."
      ],
      "metadata": {
        "id": "119pUBcVujQn"
      }
    },
    {
      "cell_type": "code",
      "source": [
        "P = Polynomial([Rational(1, 2), Rational(1, 3), Rational(1, 4)])\n",
        "Q = Polynomial([1, 2])\n",
        "P.show()\n",
        "(P+Q).show()\n",
        "(P*Q).show()"
      ],
      "metadata": {
        "colab": {
          "base_uri": "https://localhost:8080/",
          "height": 83
        },
        "id": "71_QjU8StKU7",
        "outputId": "1e139f97-f837-4678-b5d4-dd7eec121b41"
      },
      "execution_count": null,
      "outputs": [
        {
          "output_type": "display_data",
          "data": {
            "text/plain": [
              "<IPython.core.display.Math object>"
            ],
            "text/latex": "$\\displaystyle 1/4x^{2}+1/3x+1/2$"
          },
          "metadata": {}
        },
        {
          "output_type": "display_data",
          "data": {
            "text/plain": [
              "<IPython.core.display.Math object>"
            ],
            "text/latex": "$\\displaystyle 1/4x^{2}+7/3x+3/2$"
          },
          "metadata": {}
        },
        {
          "output_type": "display_data",
          "data": {
            "text/plain": [
              "<IPython.core.display.Math object>"
            ],
            "text/latex": "$\\displaystyle 1/2x^{3}+11/12x^{2}+4/3x+1/2$"
          },
          "metadata": {}
        }
      ]
    }
  ]
}