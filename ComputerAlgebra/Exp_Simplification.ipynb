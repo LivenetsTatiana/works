{
  "nbformat": 4,
  "nbformat_minor": 0,
  "metadata": {
    "colab": {
      "provenance": [],
      "include_colab_link": true
    },
    "kernelspec": {
      "name": "python3",
      "display_name": "Python 3"
    },
    "language_info": {
      "name": "python"
    }
  },
  "cells": [
    {
      "cell_type": "markdown",
      "metadata": {
        "id": "view-in-github",
        "colab_type": "text"
      },
      "source": [
        "<a href=\"https://colab.research.google.com/github/LivenetsTatiana/works/blob/main/ComputerAlgebra/Exp_Simplification.ipynb\" target=\"_parent\"><img src=\"https://colab.research.google.com/assets/colab-badge.svg\" alt=\"Open In Colab\"/></a>"
      ]
    },
    {
      "cell_type": "code",
      "execution_count": null,
      "metadata": {
        "id": "cyfww44BBer6"
      },
      "outputs": [],
      "source": [
        "from IPython.display import display, Math\n",
        "import numpy as np\n",
        "import matplotlib\n",
        "import matplotlib.pyplot as plt"
      ]
    },
    {
      "cell_type": "code",
      "source": [
        "def add(x, y): return ['+', x, y]\n",
        "def sub(x, y): return ['-', x, y]\n",
        "def mul(x, y): return ['*', x, y]\n",
        "def div(x, y): return ['/', x, y]\n",
        "def power(x, y): return ['^', x, y]\n",
        "def negative(x): return ['~', x]\n",
        "def sin_(x): return ['sin', x]\n",
        "def cos_(x): return ['cos', x]\n",
        "def sqrt_(x): return ['sqrt', x]\n",
        "def ln_(x): return ['ln', x]\n",
        "def exp_(x): return ['exp', x]\n",
        "def arcsin_(x): return ['arcsin',x]\n",
        "def arccos_(x): return ['arccos',x]\n",
        "\n",
        "def Sum(*x): return ['S', *x]\n",
        "def Product(*x): return ['P', *x]"
      ],
      "metadata": {
        "id": "vjTq7k6CBi6W"
      },
      "execution_count": null,
      "outputs": []
    },
    {
      "cell_type": "code",
      "source": [
        "def fix(x):\n",
        "  if isinstance(x, Expression):\n",
        "    return x\n",
        "  return Expression(x)\n",
        "\n",
        "class Expression:\n",
        "  def __init__(self, x):\n",
        "    self.T = x\n",
        "  def __add__(self, x):\n",
        "    return Expression(add(self.T, fix(x).T))\n",
        "  def __radd__(self, x):\n",
        "    return Expression(add(fix(x).T, self.T))\n",
        "  def __sub__(self, x):\n",
        "    return Expression(sub(self.T, fix(x).T))\n",
        "  def __rsub__(self, x):\n",
        "    return Expression(sub(fix(x).T, self.T))\n",
        "  def __mul__(self, x):\n",
        "    return Expression(mul(self.T, fix(x).T))\n",
        "  def __rmul__(self, x):\n",
        "    return Expression(mul(fix(x).T, self.T))\n",
        "  def __truediv__(self, x):\n",
        "    return Expression(div(self.T, fix(x).T))\n",
        "  def __rtruediv__(self, x):\n",
        "    return Expression(div(fix(x).T, self.T))\n",
        "  def __pow__(self, x):\n",
        "    return Expression(power(self.T, fix(x).T))\n",
        "  def __rpow__(self, x):\n",
        "    return Expression(power(fix(x).T, self.T))\n",
        "  def __neg__(self):\n",
        "    return Expression(negative(self.T))\n",
        "\n",
        "def sin(x):\n",
        "  return Expression(sin_(fix(x).T))\n",
        "def cos(x):\n",
        "  return Expression(cos_(fix(x).T))\n",
        "def sqrt(x):\n",
        "  return Expression(sqrt_(fix(x).T))\n",
        "def ln(x):\n",
        "  return Expression(ln_(fix(x).T))\n",
        "def exp(x):\n",
        "  return Expression(exp_(fix(x).T))\n",
        "def arcsin(x):\n",
        "  return Expression(arcsin_(fix(x).T))\n",
        "def arccos(x):\n",
        "  return Expression(arccos_(fix(x).T))"
      ],
      "metadata": {
        "id": "xIkrjFtLCELz"
      },
      "execution_count": null,
      "outputs": []
    },
    {
      "cell_type": "code",
      "source": [
        "def show(x):\n",
        "  display(Math(latex(x)))\n",
        "\n",
        "def enclose(x):\n",
        "  return f'\\\\left( {x} \\\\right)'\n",
        "\n",
        "def latex(x):\n",
        "  if isinstance(x, Expression):\n",
        "    return latex(x.T)\n",
        "\n",
        "  if isinstance(x, int):\n",
        "    return str(x)\n",
        "\n",
        "  if isinstance(x, str):\n",
        "    return extendSymbol(x)\n",
        "\n",
        "  op = x[0]\n",
        "  if op in '+-*/^':\n",
        "    l, r = latex(x[1]), latex(x[2])\n",
        "    if op == '+':\n",
        "      return f'{l} + {r}'\n",
        "    if op == '-':\n",
        "      return f'{l} - {r}'\n",
        "    if op == '*':\n",
        "      if isinstance(x[1], list) and x[1][0] in '+-' or l[0] == '-':\n",
        "        l = enclose(l)\n",
        "      if isinstance(x[2], list) and x[2][0] in '+-' or r[0] == '-':\n",
        "        r = enclose(r)\n",
        "      return f'{l} \\\\cdot {r}'\n",
        "    if op == '/':\n",
        "      return f'\\\\dfrac{{{l}}}{{{r}}}'\n",
        "\n",
        "    if op == '^':\n",
        "      if l == 1 or l == '1': return f'{{{1}}}'\n",
        "      if isinstance(x[1], list):\n",
        "        l = enclose(l)\n",
        "\n",
        "      if r == '0' or r==0 or r == rational(0, 1) or r == ['q', 0, 1]: return f'{{{1}}}'\n",
        "      elif r == '1' or r == 1: return f'{{{l}}}'\n",
        "      else: return f'{{{l}}}^{{{r}}}'\n",
        "  elif op == 'S':\n",
        "    A = [latex(a) for a in x[1:]]\n",
        "    for k in range(len(A)):\n",
        "      if A[k][0] == '-':\n",
        "        A[k] = enclose(A[k])\n",
        "      return ' + '.join(A)\n",
        "  elif op == 'P':\n",
        "    A = [latex(a) for a in x[1:]]\n",
        "    for k in range(1, len(x)):\n",
        "      if isinstance(x[k], list) and x[k][0] == 'S' or A[k-1][0] == '-':\n",
        "        A[k-1] = enclose(A[k-1])\n",
        "    return ' \\\\cdot '.join(A)\n",
        "  elif op == 'q':\n",
        "    if x[2] == 1:\n",
        "      return str(x[1])\n",
        "    if x[1] > 0:\n",
        "      return f'\\\\dfrac{{{x[1]}}}{{{x[2]}}}'\n",
        "    return f'-\\\\dfrac{{{-x[1]}}}{{{x[2]}}}'\n",
        "\n",
        "  else:\n",
        "    a = enclose(latex(x[1]))\n",
        "    if op == '~':\n",
        "      return f'- {a}'\n",
        "    if op == 'sin':\n",
        "      return f'\\\\sin {a}'\n",
        "    if op == 'cos':\n",
        "      return f'\\\\cos {a}'\n",
        "    if op == 'sqrt':\n",
        "      return f'\\\\sqrt{{{a}}}'\n",
        "    if op == 'ln':\n",
        "      return f'\\\\ln {a}'\n",
        "    if op == 'exp':\n",
        "      return f'e ^ {{{a}}}'\n",
        "    if op == 'arcsin':\n",
        "      return f'\\\\arcsin {a}'\n",
        "    if op == 'arccos':\n",
        "      return f'\\\\arccos {a}'\n",
        "\n",
        "def extendSymbol(x):\n",
        "  if len(x) == 1:\n",
        "    return x\n",
        "  if x in ['alpha', 'beta', 'gamma', 'pi']:\n",
        "    return f'\\\\{x}'\n",
        "  return f'{x[0]}_{{{x[1:]}}}'"
      ],
      "metadata": {
        "id": "P_4l-r19DsfI"
      },
      "execution_count": null,
      "outputs": []
    },
    {
      "cell_type": "code",
      "source": [
        "def symbols(s):\n",
        "  S = s.split()\n",
        "  if len(S) == 1:\n",
        "    return Expression(s)\n",
        "  return (Expression(i) for i in S)\n"
      ],
      "metadata": {
        "id": "acIjJ9SKF24T"
      },
      "execution_count": null,
      "outputs": []
    },
    {
      "cell_type": "code",
      "source": [
        "from functools import reduce"
      ],
      "metadata": {
        "id": "lCmu97Wha3xA"
      },
      "execution_count": null,
      "outputs": []
    },
    {
      "cell_type": "code",
      "source": [
        "def evalf(x, arg = {}):\n",
        "  if isinstance(x, Expression):\n",
        "    if isinstance(arg, dict):\n",
        "      arg = {i.T: arg[i] for i in arg}\n",
        "    else:\n",
        "      arg = {'$': arg}\n",
        "    return evalf(x.T, arg)\n",
        "\n",
        "  if isinstance(x, int):\n",
        "    return x\n",
        "\n",
        "  if isinstance(x, str):\n",
        "    if x in arg:\n",
        "      return arg[x]\n",
        "    return arg['$']\n",
        "\n",
        "  op = x[0]\n",
        "  if op in '+-*/^':\n",
        "    l, r = evalf(x[1], arg), evalf(x[2], arg)\n",
        "    if op == '+':\n",
        "      return l + r\n",
        "    if op == '-':\n",
        "      return l - r\n",
        "    if op == '*':\n",
        "      return l * r\n",
        "    if op == '/':\n",
        "      return l / r\n",
        "    if op == '^':\n",
        "      return l ** r\n",
        "  elif op in 'SP':\n",
        "    A = [evalf(a, arg) for a in x[1:]]\n",
        "    if op == 'S':\n",
        "      return sum(A)\n",
        "    if op == 'P':\n",
        "      return reduce(lambda x, y: x * y, A, 1)\n",
        "  elif op == 'q':\n",
        "    return x[1] / x[2]\n",
        "  else:\n",
        "    a = evalf(x[1], arg)\n",
        "    if op == '~':\n",
        "      return - a\n",
        "    if op == 'sin':\n",
        "      return np.sin(a)\n",
        "    if op == 'cos':\n",
        "      return np.cos(a)\n",
        "    if op == 'sqrt':\n",
        "      return np.sqrt(a)\n",
        "    if op == 'ln':\n",
        "      return np.log(a)\n",
        "    if op == 'exp':\n",
        "      return np.exp(a)\n",
        "    if op == 'arcsin':\n",
        "      return np.arcsin(a)\n",
        "    if op == 'arccos':\n",
        "      return np.arccos(a)\n",
        "  return None\n"
      ],
      "metadata": {
        "id": "CE1LcNplGkPi"
      },
      "execution_count": null,
      "outputs": []
    },
    {
      "cell_type": "code",
      "source": [
        "def plot(y, x):\n",
        "  X = np.linspace(x[1], x[2], 1000)\n",
        "  if isinstance(y.T, int):\n",
        "    Y = evalf(y) * np.ones(1000)\n",
        "  else:\n",
        "    Y = evalf(y, {x[0]: X})\n",
        "  plt.plot(X, Y)"
      ],
      "metadata": {
        "id": "xyBjM7z1IuJD"
      },
      "execution_count": null,
      "outputs": []
    },
    {
      "cell_type": "code",
      "source": [
        "def Z(x):\n",
        "  return Expression(x)\n",
        "\n",
        "def isInt(x):\n",
        "  return isinstance(x.T, int)\n",
        "\n",
        "def diff(y, x):\n",
        "  if isInt(y):\n",
        "    return Z(0)\n",
        "\n",
        "  if isinstance(y.T, str):\n",
        "    if y.T == x.T:\n",
        "      return Z(1)\n",
        "    return Z(0)\n",
        "\n",
        "  op = y.T[0]\n",
        "  if op in '+-*/^':\n",
        "    u, v = Expression(y.T[1]), Expression(y.T[2])\n",
        "    du, dv = diff(u, x), diff(v, x)\n",
        "    if op == '+':\n",
        "      return du + dv\n",
        "    if op == '-':\n",
        "      return du - dv\n",
        "    if op == '*':\n",
        "      #if isInt(u): return u * dv # упрощение\n",
        "      #if isInt(v): return du * v # упрощение\n",
        "      return du * v + u * dv\n",
        "    if op == '/':\n",
        "      if isInt(u): return - u * dv / v ** 2 # упрощение\n",
        "      if isInt(v): return du / v # упрощение\n",
        "      return (du * v - u * dv) / v ** 2\n",
        "    if op == '^':\n",
        "      if isInt(v): # u(x) ^ n\n",
        "        n = v.T\n",
        "        if n == 0:\n",
        "          return Z(0)\n",
        "        if n == 1:\n",
        "          return du\n",
        "        if du.T == 1: return n * u ** (n - 1) # упрощение\n",
        "        return n * u ** (n - 1) * du\n",
        "      if isInt(u): # n ^ v(x)\n",
        "        n = u.T\n",
        "        return ln(n) * (u ** v) * dv\n",
        "  else:\n",
        "    u = Expression(y.T[1])\n",
        "    du = diff(u, x)\n",
        "    if op == '~': return -du\n",
        "    if op == 'sin': return cos(u) * du\n",
        "    if op == 'cos': return -sin(u) * du\n",
        "    if op == 'sqrt': return du / (2 * sqrt(u))\n",
        "    if op == 'ln': return du / u\n",
        "    if op == 'exp': return exp(u) * du\n",
        "\n",
        "  return None"
      ],
      "metadata": {
        "id": "4xhz7pA9A-ge"
      },
      "execution_count": null,
      "outputs": []
    },
    {
      "cell_type": "code",
      "source": [
        "def taylorCoeffs(y, x, n, x0):\n",
        "  A = [evalf(y, x0)]\n",
        "  dy = diff(y, x)\n",
        "  for i in range(n):\n",
        "    A.append(evalf(dy, x0))\n",
        "    dy = diff(dy, x)\n",
        "  return A"
      ],
      "metadata": {
        "id": "QhXIidLGJDio"
      },
      "execution_count": null,
      "outputs": []
    },
    {
      "cell_type": "code",
      "source": [
        "def fac(n):\n",
        "  return 1 if n < 2 else n * fac(n - 1)\n",
        "\n",
        "def taylorTerm(a, x, n, x0):\n",
        "  a, x0 = int(a), int(x0)\n",
        "  if n == 0:\n",
        "    return Z(a)\n",
        "  d = x\n",
        "  if x0 > 0:\n",
        "    d = x - x0\n",
        "  elif x0 < 0:\n",
        "    d = x + (-x0)\n",
        "  if n == 1:\n",
        "    return a * d\n",
        "  return (Z(a) / fac(n)) * d ** n\n",
        "\n",
        "def taylorSeries(y, x, n, x0 = 0):\n",
        "  A = taylorCoeffs(y, x, n, x0)\n",
        "  f = None\n",
        "  for i in range(n + 1):\n",
        "    if A[i] == 0:\n",
        "      continue\n",
        "    elif A[i] > 0:\n",
        "      t = taylorTerm(A[i], x, i, x0)\n",
        "      f = t if f == None else f + t\n",
        "    else:\n",
        "      t = taylorTerm(-A[i], x, i, x0)\n",
        "      f = -t if f == None else f - t\n",
        "  if f == None:\n",
        "    f = Z(0)\n",
        "  return f"
      ],
      "metadata": {
        "id": "3-wRV6J5KwBZ"
      },
      "execution_count": null,
      "outputs": []
    },
    {
      "cell_type": "code",
      "source": [
        "def rational(n, m):\n",
        "  if n == 0:\n",
        "    return ['q', 0, 1]\n",
        "  if m < 0:\n",
        "    n, m = -n, -m\n",
        "  d = gcd(abs(n), m)\n",
        "  return ['q', n // d, m // d]\n",
        "\n",
        "def Q(n, m):\n",
        "  return Expression(rational(n, m))\n",
        "\n",
        "def gcd(n, m):\n",
        "  while m:\n",
        "    n, m = m, n % m\n",
        "  return n"
      ],
      "metadata": {
        "id": "SUQnJIcdcAds"
      },
      "execution_count": null,
      "outputs": []
    },
    {
      "cell_type": "code",
      "source": [
        "from typing_extensions import Annotated\n",
        "def normalize(x):\n",
        "  if isinstance(x, (int, str)): return x\n",
        "  op, arg = x[0], x[1:]\n",
        "  A = [normalize(a) for a in arg]\n",
        "  if op in '+S': # сборка сумм\n",
        "    R = []\n",
        "    for a in A:\n",
        "      R += a[1:] if isinstance(a, list) and a[0] in '+S' else [a]\n",
        "    return Sum(*R)\n",
        "  if op in '*P': # сборка произведений\n",
        "    R = []\n",
        "    for a in A:\n",
        "      R += a[1:] if isinstance(a, list) and a[0] in '*P' else [a]\n",
        "    return Product(*R)\n",
        "  if op == '~': # унарный минус\n",
        "    return normalize(Product(-1, A[0]))\n",
        "  if op == '-': # бинарный минус\n",
        "    return normalize(Sum(A[0], Product(-1, A[1])))\n",
        "  if op == '/': # деление\n",
        "    return normalize(Product(A[0], power(A[1], -1)))\n",
        "  if op == '^': # нормализация степеней\n",
        "    if isinstance(A[0], list) and A[0][0] == 'P':\n",
        "      B = [power(a, A[1]) for a in A[0][1:]]\n",
        "      return normalize(Product(*B))\n",
        "    if isinstance(A[0], list) and A[0][0] == '^':\n",
        "      d = Product(A[0][2], A[1])\n",
        "      return normalize(power(A[0][1], d))\n",
        "    if isinstance(A[0], list) and A[0][0] == 'sqrt' and A[1]% 2 ==0:\n",
        "      return normalize(power(A[0][1], A[1]//2))\n",
        "  if op == 'sqrt':\n",
        "    if isinstance(A[0], list) and A[0][0] == '^' and A[0][2] % 2 ==0:\n",
        "      return normalize(power(A[0][1], A[0][2]//2))\n",
        "\n",
        "  return x\n"
      ],
      "metadata": {
        "id": "E6FdEnwodXXE"
      },
      "execution_count": null,
      "outputs": []
    },
    {
      "cell_type": "code",
      "source": [
        "def sortx(x):\n",
        "  if isinstance(x, list):\n",
        "    op, arg = x[0], x[1:]\n",
        "    A = [sortx(a) for a in arg]\n",
        "    if op in 'SP':\n",
        "      A.sort(key = lambda a: str(a))\n",
        "    return [op, *A]\n",
        "  return x"
      ],
      "metadata": {
        "id": "fCz3FIn_lWAx"
      },
      "execution_count": null,
      "outputs": []
    },
    {
      "cell_type": "code",
      "source": [
        "def simplify(x):\n",
        "  if isinstance(x, Expression):\n",
        "    return Expression(simplify(x.T))\n",
        "  if isinstance(x, str): # символ\n",
        "    return x\n",
        "  if isinstance(x, int): # целое, преобразуем в рациональное\n",
        "    return rational(x, 1)\n",
        "  if x[0] == 'q': # рациональное\n",
        "    return x\n",
        "  x = sortx(normalize(x))\n",
        "  op, arg = x[0], x[1:]\n",
        "  A = [simplify(a) for a in arg]\n",
        "\n",
        "  if op == 'exp':\n",
        "    if A[0]==['q', 0, 1]: return rational(1, 1)\n",
        "    if A[0][0]=='ln': return A[0][1]\n",
        "  if op == 'sin':\n",
        "    if A[0]==['q', 0, 1]: return rational(0, 1)\n",
        "    if A[0][0]=='arcsin': return A[0][1]\n",
        "  if op == 'cos':\n",
        "    if A[0]==['q', 0, 1]: return rational(1, 1)\n",
        "    if A[0][0]=='arccos': return A[0][1]\n",
        "  if op == 'ln':\n",
        "    if A[0]==['q', 1, 1]: return rational(0, 1)\n",
        "\n",
        "  if op == '^':\n",
        "    if isinstance(A[1], list) and A[1][0] == 'q' and A[1][2] == 1:\n",
        "      if isinstance(A[0], list) and A[0][0] == 'q':\n",
        "        n, m, d = A[0][1], A[0][2], A[1][1]\n",
        "        if d >= 0:\n",
        "          return rational(n ** d, m ** d)\n",
        "        else:\n",
        "          return rational(m ** (-d), n ** (-d))\n",
        "    if A[0] == '1' or A[0] == 1 or A[0] == rational(1, 1) or A[0]==['q', 1, 1]: return rational(1, 1)\n",
        "    elif A[1] == '1'or A[1]==['q', 1, 1]: return A[0]\n",
        "    elif A[1] == '0'or A[1]==['q', 0, 1]: return rational(1, 1)\n",
        "  if op == 'P':\n",
        "    n, m, V = 1, 1, []\n",
        "    for a in A:\n",
        "      if isinstance(a, list) and a[0] == 'q':\n",
        "        n, m = n * a[1], m * a[2]\n",
        "      else:\n",
        "        V.append(a)\n",
        "    q = rational(n, m)\n",
        "    if len(V) > 1:\n",
        "      V0 = collectSameTerms_Product(V)\n",
        "      V = []\n",
        "      for i in range(len(V0)):\n",
        "\n",
        "        if V0[i]=='---':  break\n",
        "        if V0[i]=='x':V0[i]=['^', 'x', ['q', 1, 1]]\n",
        "        for j in range(i+1, len(V0)):\n",
        "          if V0[j]=='x':V0[j]=['^', 'x', ['q', 1, 1]]\n",
        "          if V0[j][0]==V0[i][0] and V0[j][1]==V0[i][1]:\n",
        "              ni = V0[i][2][1]\n",
        "              mi =V0[i][2][2]\n",
        "              nj = V0[j][2][1]\n",
        "              mj =V0[j][2][2]\n",
        "              V0[i][2]=rational(ni*mj+nj*mi, mi*mj)\n",
        "              V0[j]='---'\n",
        "        V.append(V0[i])\n",
        "    # здесь можно упростить множители V, не являющиеся рациональными числами\n",
        "    if q[1] == 0 or V == []: return q\n",
        "    if q[1] == 1 and q[2] == 1 and len(V) == 1: return V[0]\n",
        "    A = [q, *V] if q[1] != 1 or q[2] != 1 else [*V]\n",
        "  if op == 'S':\n",
        "    n, m, V = 0, 1, []\n",
        "    for a in A:\n",
        "      if isinstance(a, list) and a[0] == 'q':\n",
        "        n, m = n * a[2] + m * a[1], m * a[2]\n",
        "      else:\n",
        "        V.append(a)\n",
        "    q = rational(n, m)\n",
        "    if len(V) > 1:\n",
        "      V0 = collectSameTerms(V)\n",
        "      V = []\n",
        "      for i in range(len(V0)):\n",
        "        if V0[i]=='---':  break\n",
        "        if V0[i]==[x]:V0[i]=['P', ['q', 1, 1], 'x']\n",
        "        for j in range(i+1, len(V0)):\n",
        "          if V0[j]=='x':V0[j]=['P', ['q', 1, 1], 'x']\n",
        "          if V0[j][0]==V0[i][0] and V0[j][2]==V0[i][2]:\n",
        "              ni = V0[i][1][1]\n",
        "              mi =V0[i][1][2]\n",
        "              nj = V0[j][1][1]\n",
        "              mj =V0[j][1][2]\n",
        "              V0[i][1]=rational(ni*mj+nj*mi, mi*mj)\n",
        "              V0[j]='---'\n",
        "        V.append(V0[i])\n",
        "    if V == []: return q\n",
        "    if q[1] == 0 and len(V) == 1: return V[0]\n",
        "    A = [q, *V] if q[1] != 0 else [*V]\n",
        "  return [op, *A]\n",
        "\n",
        "def collectSameTerms(A):\n",
        "  count, X = 1, []\n",
        "  for k in range(1, len(A)):\n",
        "    if A[k] == A[k - 1]:\n",
        "      count += 1\n",
        "      continue\n",
        "    X.append(simplify(Product(rational(count, 1), A[k - 1])))\n",
        "    count = 1\n",
        "  X.append(simplify(Product(rational(count, 1), A[-1])))\n",
        "  return X\n",
        "def collectSameTerms_Product(A):\n",
        "  count, X = 1, []\n",
        "  for k in range(1, len(A)):\n",
        "    if A[k] == A[k - 1]:\n",
        "      count += 1\n",
        "      continue\n",
        "    X.append(simplify(Product(rational(count, 1), A[k - 1])))\n",
        "    count = 1\n",
        "  X.append(simplify(power(A[-1], rational(count, 1))))\n",
        "  return X"
      ],
      "metadata": {
        "id": "lkVpi5BvqJd0"
      },
      "execution_count": null,
      "outputs": []
    },
    {
      "cell_type": "code",
      "source": [
        "x = Expression('x')"
      ],
      "metadata": {
        "id": "cAuemr3lBv91"
      },
      "execution_count": null,
      "outputs": []
    },
    {
      "cell_type": "markdown",
      "source": [
        "2. В функции simplify реализуйте сбор одинаковых множителей в произведении (по ана-\n",
        "логии со сбором одинаковых слагаемых в суммах):\n",
        "\n",
        "x · x · x → x\n",
        "3\n"
      ],
      "metadata": {
        "id": "bP9wyG7fFzXD"
      }
    },
    {
      "cell_type": "code",
      "source": [
        "f = x + x+ x\n",
        "F = simplify(f)\n",
        "show(F)\n",
        "F.T"
      ],
      "metadata": {
        "colab": {
          "base_uri": "https://localhost:8080/",
          "height": 56
        },
        "id": "mS2H20ArvcFu",
        "outputId": "2e79cb2f-51fa-455c-c308-056348320919"
      },
      "execution_count": null,
      "outputs": [
        {
          "output_type": "display_data",
          "data": {
            "text/plain": [
              "<IPython.core.display.Math object>"
            ],
            "text/latex": "$\\displaystyle 3 \\cdot x$"
          },
          "metadata": {}
        },
        {
          "output_type": "execute_result",
          "data": {
            "text/plain": [
              "['P', ['q', 3, 1], 'x']"
            ]
          },
          "metadata": {},
          "execution_count": 17
        }
      ]
    },
    {
      "cell_type": "code",
      "source": [
        "f = x * x* x\n",
        "F = simplify(f)\n",
        "show(F)\n",
        "F.T"
      ],
      "metadata": {
        "colab": {
          "base_uri": "https://localhost:8080/",
          "height": 56
        },
        "id": "yFASBWEazM_n",
        "outputId": "9d049044-31fd-4f5a-db8b-4ea9116aed41"
      },
      "execution_count": null,
      "outputs": [
        {
          "output_type": "display_data",
          "data": {
            "text/plain": [
              "<IPython.core.display.Math object>"
            ],
            "text/latex": "$\\displaystyle {x}^{3}$"
          },
          "metadata": {}
        },
        {
          "output_type": "execute_result",
          "data": {
            "text/plain": [
              "['^', 'x', ['q', 3, 1]]"
            ]
          },
          "metadata": {},
          "execution_count": 18
        }
      ]
    },
    {
      "cell_type": "markdown",
      "source": [
        "3. Добавьте три правила в упрощение степеней: x\n",
        "0 → 1, 1\n",
        "x → 1, x\n",
        "1 → x"
      ],
      "metadata": {
        "id": "M7s23IE6GTkN"
      }
    },
    {
      "cell_type": "code",
      "source": [
        "f = x **0\n",
        "show(simplify(f))\n",
        "f = x** 1\n",
        "show(simplify(f))\n",
        "f = 1**x\n",
        "show(simplify(f))\n",
        "f = x**0+x**1+1**x\n",
        "F = simplify(f)\n",
        "show(F)\n",
        "F.T"
      ],
      "metadata": {
        "colab": {
          "base_uri": "https://localhost:8080/",
          "height": 119
        },
        "id": "L-NkFtqQGUcc",
        "outputId": "bf836403-d404-4657-b6f1-806e4daed17e"
      },
      "execution_count": null,
      "outputs": [
        {
          "output_type": "display_data",
          "data": {
            "text/plain": [
              "<IPython.core.display.Math object>"
            ],
            "text/latex": "$\\displaystyle 1$"
          },
          "metadata": {}
        },
        {
          "output_type": "display_data",
          "data": {
            "text/plain": [
              "<IPython.core.display.Math object>"
            ],
            "text/latex": "$\\displaystyle x$"
          },
          "metadata": {}
        },
        {
          "output_type": "display_data",
          "data": {
            "text/plain": [
              "<IPython.core.display.Math object>"
            ],
            "text/latex": "$\\displaystyle 1$"
          },
          "metadata": {}
        },
        {
          "output_type": "display_data",
          "data": {
            "text/plain": [
              "<IPython.core.display.Math object>"
            ],
            "text/latex": "$\\displaystyle 2 + x$"
          },
          "metadata": {}
        },
        {
          "output_type": "execute_result",
          "data": {
            "text/plain": [
              "['S', ['q', 2, 1], 'x']"
            ]
          },
          "metadata": {},
          "execution_count": 19
        }
      ]
    },
    {
      "cell_type": "markdown",
      "source": [
        "4. Добавьте правила упрощения функций, если их аргументами являются числа со спе-\n",
        "циальными значениями:\n",
        "\n",
        "exp(0) → 1, ln(1) → 0, sin(0) → 0"
      ],
      "metadata": {
        "id": "RJH4SuNRIP6b"
      }
    },
    {
      "cell_type": "code",
      "source": [
        "x0 = Expression(0)\n",
        "x1 = Expression(1)\n",
        "f = exp(x0)\n",
        "show(simplify(f))\n",
        "f = ln(x1)\n",
        "show(simplify(f))\n",
        "f = sin(x0)\n",
        "show(simplify(f))\n",
        "f = cos(x0)\n",
        "show(simplify(f))"
      ],
      "metadata": {
        "colab": {
          "base_uri": "https://localhost:8080/",
          "height": 98
        },
        "id": "MwpVqRv-IRUX",
        "outputId": "e3c7bf35-082b-4c06-d8a6-988b73745f7c"
      },
      "execution_count": null,
      "outputs": [
        {
          "output_type": "display_data",
          "data": {
            "text/plain": [
              "<IPython.core.display.Math object>"
            ],
            "text/latex": "$\\displaystyle 1$"
          },
          "metadata": {}
        },
        {
          "output_type": "display_data",
          "data": {
            "text/plain": [
              "<IPython.core.display.Math object>"
            ],
            "text/latex": "$\\displaystyle 0$"
          },
          "metadata": {}
        },
        {
          "output_type": "display_data",
          "data": {
            "text/plain": [
              "<IPython.core.display.Math object>"
            ],
            "text/latex": "$\\displaystyle 0$"
          },
          "metadata": {}
        },
        {
          "output_type": "display_data",
          "data": {
            "text/plain": [
              "<IPython.core.display.Math object>"
            ],
            "text/latex": "$\\displaystyle 1$"
          },
          "metadata": {}
        }
      ]
    },
    {
      "cell_type": "markdown",
      "source": [
        "5. Добавьте правила для упрощения взаимно-обратных функций:\n",
        "exp(ln(x)) → x, sin arcsin(x) → x и т.д."
      ],
      "metadata": {
        "id": "ROnheDNfPfsp"
      }
    },
    {
      "cell_type": "code",
      "source": [
        "f = exp(ln(x))\n",
        "show(simplify(f))\n",
        "f = sin(arcsin(x))\n",
        "show(simplify(f))\n",
        "f = cos(arccos(x))\n",
        "show(simplify(f))"
      ],
      "metadata": {
        "colab": {
          "base_uri": "https://localhost:8080/",
          "height": 83
        },
        "id": "9QhqTXhbPg36",
        "outputId": "b25a1040-228f-4c5b-e902-b8feb38fd0e5"
      },
      "execution_count": null,
      "outputs": [
        {
          "output_type": "display_data",
          "data": {
            "text/plain": [
              "<IPython.core.display.Math object>"
            ],
            "text/latex": "$\\displaystyle x$"
          },
          "metadata": {}
        },
        {
          "output_type": "display_data",
          "data": {
            "text/plain": [
              "<IPython.core.display.Math object>"
            ],
            "text/latex": "$\\displaystyle x$"
          },
          "metadata": {}
        },
        {
          "output_type": "display_data",
          "data": {
            "text/plain": [
              "<IPython.core.display.Math object>"
            ],
            "text/latex": "$\\displaystyle x$"
          },
          "metadata": {}
        }
      ]
    },
    {
      "cell_type": "markdown",
      "source": [
        "БОНУСЫ\n"
      ],
      "metadata": {
        "id": "fygMNDmw6Ks2"
      }
    },
    {
      "cell_type": "markdown",
      "source": [
        "6. Реализуйте более полный вариант приведения общих членов в суммах, с учетом чис-\n",
        "ловых коэффициентов перед множителями:\n",
        "\n",
        "x + 5x + 1 − 2x → 1 + 4x."
      ],
      "metadata": {
        "id": "V3ZtoQVA6Fy8"
      }
    },
    {
      "cell_type": "code",
      "source": [
        "f = x*x+2*x\n",
        "F = simplify(f)\n",
        "show(F)\n",
        "F.T"
      ],
      "metadata": {
        "colab": {
          "base_uri": "https://localhost:8080/",
          "height": 56
        },
        "id": "qRWQScRP5P-6",
        "outputId": "6aaa3670-676f-481d-8eee-a796dd0fb391"
      },
      "execution_count": null,
      "outputs": [
        {
          "output_type": "display_data",
          "data": {
            "text/plain": [
              "<IPython.core.display.Math object>"
            ],
            "text/latex": "$\\displaystyle {x}^{2} + 2 \\cdot x$"
          },
          "metadata": {}
        },
        {
          "output_type": "execute_result",
          "data": {
            "text/plain": [
              "['S', ['^', 'x', ['q', 2, 1]], ['P', ['q', 2, 1], 'x']]"
            ]
          },
          "metadata": {},
          "execution_count": 30
        }
      ]
    },
    {
      "cell_type": "markdown",
      "source": [
        "7. Реализуйте аналогичный вариант упрощения произведений (однородными теперь будут\n",
        "множители с одинаковыми основаниями):\n",
        "x · x\n",
        "2\n",
        "· x\n",
        "5 → x\n",
        "8"
      ],
      "metadata": {
        "id": "UpT1nGSF6cZR"
      }
    },
    {
      "cell_type": "code",
      "source": [
        "f = x*x**2*x**5\n",
        "F = simplify(f)\n",
        "show(F)\n",
        "F.T"
      ],
      "metadata": {
        "colab": {
          "base_uri": "https://localhost:8080/",
          "height": 56
        },
        "id": "Sq13vrgZ6d6J",
        "outputId": "2af0fc0a-d88e-4400-f3d8-4a4cc01a1600"
      },
      "execution_count": null,
      "outputs": [
        {
          "output_type": "display_data",
          "data": {
            "text/plain": [
              "<IPython.core.display.Math object>"
            ],
            "text/latex": "$\\displaystyle {x}^{8}$"
          },
          "metadata": {}
        },
        {
          "output_type": "execute_result",
          "data": {
            "text/plain": [
              "['^', 'x', ['q', 8, 1]]"
            ]
          },
          "metadata": {},
          "execution_count": 23
        }
      ]
    },
    {
      "cell_type": "markdown",
      "source": [
        "8. Замените при нормализации функцию извлечения квадратного корня на степень, что-\n",
        "бы можно было упрощать операции с корнями, используя стандартные приемы для\n",
        "\n",
        "упрощения степеней:\n",
        "\n",
        "(\n",
        "√\n",
        "x)\n",
        "4 → x\n",
        "2\n",
        ",\n",
        "√\n",
        "x\n",
        "2 → x."
      ],
      "metadata": {
        "id": "4R1r1VeCCaU3"
      }
    },
    {
      "cell_type": "code",
      "source": [
        "f = sqrt(x**2)\n",
        "F = simplify(f)\n",
        "show(F)\n",
        "\n",
        "f = sqrt(x)**4\n",
        "F = simplify(f)\n",
        "show(F)\n",
        "F.T"
      ],
      "metadata": {
        "colab": {
          "base_uri": "https://localhost:8080/",
          "height": 78
        },
        "id": "076tAbGQA3Ji",
        "outputId": "682eabea-b6a5-4bef-ed76-2383674060a3"
      },
      "execution_count": null,
      "outputs": [
        {
          "output_type": "display_data",
          "data": {
            "text/plain": [
              "<IPython.core.display.Math object>"
            ],
            "text/latex": "$\\displaystyle x$"
          },
          "metadata": {}
        },
        {
          "output_type": "display_data",
          "data": {
            "text/plain": [
              "<IPython.core.display.Math object>"
            ],
            "text/latex": "$\\displaystyle {x}^{2}$"
          },
          "metadata": {}
        },
        {
          "output_type": "execute_result",
          "data": {
            "text/plain": [
              "['^', 'x', ['q', 2, 1]]"
            ]
          },
          "metadata": {},
          "execution_count": 24
        }
      ]
    }
  ]
}