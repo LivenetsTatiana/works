{
  "nbformat": 4,
  "nbformat_minor": 0,
  "metadata": {
    "colab": {
      "provenance": [],
      "include_colab_link": true
    },
    "kernelspec": {
      "name": "python3",
      "display_name": "Python 3"
    },
    "language_info": {
      "name": "python"
    }
  },
  "cells": [
    {
      "cell_type": "markdown",
      "metadata": {
        "id": "view-in-github",
        "colab_type": "text"
      },
      "source": [
        "<a href=\"https://colab.research.google.com/github/LivenetsTatiana/works/blob/main/ComputerAlgebra/Expression.ipynb\" target=\"_parent\"><img src=\"https://colab.research.google.com/assets/colab-badge.svg\" alt=\"Open In Colab\"/></a>"
      ]
    },
    {
      "cell_type": "code",
      "execution_count": null,
      "metadata": {
        "id": "cyfww44BBer6"
      },
      "outputs": [],
      "source": [
        "from IPython.display import display, Math\n",
        "import numpy as np\n",
        "import matplotlib\n",
        "import matplotlib.pyplot as plt\n",
        "import pdb\n"
      ]
    },
    {
      "cell_type": "code",
      "source": [
        "def plot(y, x):\n",
        "  X = np.linspace(x[1], x[2], 1000)\n",
        "  Y = evalf(y, {x[0]: X})\n",
        "  plt.plot(X, Y)"
      ],
      "metadata": {
        "id": "xyBjM7z1IuJD"
      },
      "execution_count": null,
      "outputs": []
    },
    {
      "cell_type": "code",
      "source": [
        "def fix(x):\n",
        "  if isinstance(x, Expression):\n",
        "    return x\n",
        "  return Expression(x)\n",
        "def show(x):\n",
        "  display(Math(latex(x)))\n",
        "def enclose(x):\n",
        "  return f'\\\\left( {x} \\\\right)'\n",
        "def latex(x):\n",
        "  if isinstance(x, Expression):\n",
        "    return latex(x.T)\n",
        "  if isinstance(x, (int, str, float)):\n",
        "    return str(x)\n",
        "  if x == 'pi':\n",
        "    return '\\\\pi'\n",
        "  if x == 'e':\n",
        "    return f'\\\\e'\n",
        "  op = x[0]\n",
        "  if op in '+-*/^' or op == 'sqrt_n' or op == 'log_a':\n",
        "    l, r = latex(x[1]), latex(x[2])\n",
        "    if op == '+':\n",
        "      return f'{l} + {r}'\n",
        "    if op == '-':\n",
        "      return f'{l} - {r}'\n",
        "    if op == '*':\n",
        "      return f'{l} \\\\cdot {r}'\n",
        "    if op == '/':\n",
        "      return f'\\\\dfrac{{{l}}}{{{r}}}'\n",
        "    if op == 'sqrt_n':\n",
        "      return f'\\\\sqrt[{r}]{{{l}}}'\n",
        "    if op == 'log_a':\n",
        "      return f'\\\\log_{r}{{{l}}}'\n",
        "    if op == '^':\n",
        "      if isinstance(x[1], list):\n",
        "        l = enclose(l)\n",
        "      return f'{{{l}}}^{{{r}}}'\n",
        "  else:\n",
        "    a = latex(x[1])\n",
        "    if op == '~':\n",
        "      return f'- {a}'\n",
        "    if op == 'sin':\n",
        "      return f'\\\\sin {a}'\n",
        "    if op == 'cos':\n",
        "      return f'\\\\cos {a}'\n",
        "    if op == 'sqrt':\n",
        "      return f'\\\\sqrt{{{a}}}'\n",
        "    if op == 'arcsin':\n",
        "      return f'\\\\arcsin {a}'\n",
        "    if op == 'arccos':\n",
        "      return f'\\\\arccos {a}'\n",
        "    if op == 'arctg':\n",
        "      return f'\\\\arctg {a}'\n",
        "    if op == 'arcctg':\n",
        "      return f'\\\\arcctg {a}'\n",
        "    if op == 'ln':\n",
        "      return f'\\\\ln {a}'\n",
        "    if op == 'lg':\n",
        "      return f'\\\\lg {a}'\n",
        "    if op == 'tg':\n",
        "      return f'\\\\tg {a}'\n",
        "    if op == 'ctg':\n",
        "      return f'\\\\ctg {a}'\n",
        "    if op == 'sh':\n",
        "      return f'\\\\sh {a}'\n",
        "    if op == 'ch':\n",
        "      return f'\\\\ch {a}'\n",
        "    if op == 'th':\n",
        "      return f'\\\\th {a}'\n",
        "    if op == 'cth':\n",
        "      return f'\\\\cth {a}'\n",
        "    if op == 'arcsh':\n",
        "      return f'arcsinh {a}'\n",
        "    if op == 'arcch':\n",
        "      return f'arccosh {a}'\n",
        "    if op == 'arcth':\n",
        "      return f'arctanh {a}'\n",
        "    if op == 'arccth':\n",
        "      return f'arcctanh {a}'\n",
        "    if op == 'abs':\n",
        "      return f'|{a}|'\n",
        "\n",
        "class Expression:\n",
        "  def __init__(self, x):\n",
        "    self.T = x\n",
        "  def __add__(self, x):\n",
        "    return Expression(add(self.T, fix(x).T))\n",
        "  def __radd__(self, x):\n",
        "    return Expression(add(fix(x).T, self.T))\n",
        "  def __sub__(self, x):\n",
        "    return Expression(sub(self.T, fix(x).T))\n",
        "  def __rsub__(self, x):\n",
        "    return Expression(sub(fix(x).T, self.T))\n",
        "  def __mul__(self, x):\n",
        "    return Expression(mul(self.T, fix(x).T))\n",
        "  def __rmul__(self, x):\n",
        "    return Expression(mul(fix(x).T, self.T))\n",
        "  def __truediv__(self, x):\n",
        "    return Expression(div(self.T, fix(x).T))\n",
        "  def __rtruediv__(self, x):\n",
        "    return Expression(div(fix(x).T, self.T))\n",
        "  def __pow__(self, x):\n",
        "    return Expression(power(self.T, fix(x).T))\n",
        "  def __rpow__(self, x):\n",
        "    return Expression(power(fix(x).T, self.T))\n",
        "  def __neg__(self):\n",
        "    return Expression(negative(self.T))\n",
        "\n",
        "def sin(x):\n",
        "  return Expression(sin_(fix(x).T))\n",
        "def cos(x):\n",
        "  return Expression(cos_(fix(x).T))\n",
        "def sqrt(x):\n",
        "  return Expression(sqrt_(fix(x).T))\n",
        "def sqrt_n(x, y):\n",
        "  return Expression(sqrt_n_(fix(x).T, fix(y).T))\n",
        "def log_a(x, y):\n",
        "  return Expression(log_a_(fix(x).T, fix(y).T))\n",
        "def ln(x):\n",
        "  return Expression(ln_(fix(x).T))\n",
        "def lg(x):\n",
        "  return Expression(lg_(fix(x).T))\n",
        "def tg(x):\n",
        "  return Expression(tg_(fix(x).T))\n",
        "def ctg(x):\n",
        "  return Expression(ctg_(fix(x).T))\n",
        "def arcsin(x):\n",
        "  return Expression(arcsin_(fix(x).T))\n",
        "def arccos(x):\n",
        "  return Expression(arccos_(fix(x).T))\n",
        "def arctg(x):\n",
        "  return Expression(arctg_(fix(x).T))\n",
        "def arcctg(x):\n",
        "  return Expression(arcctg_(fix(x).T))\n",
        "def sh(x):\n",
        "  return Expression(sh_(fix(x).T))\n",
        "def ch(x):\n",
        "  return Expression(ch_(fix(x).T))\n",
        "def th(x):\n",
        "  return Expression(th_(fix(x).T))\n",
        "def cth(x):\n",
        "  return Expression(cth_(fix(x).T))\n",
        "def arcsh(x):\n",
        "  return Expression(arcsh_(fix(x).T))\n",
        "def arcch(x):\n",
        "  return Expression(arcch_(fix(x).T))\n",
        "def arcth(x):\n",
        "  return Expression(arcth_(fix(x).T))\n",
        "def arccth(x):\n",
        "  return Expression(arccth_(fix(x).T))\n",
        "def abs(x):\n",
        "  return Expression(abs_(fix(x).T))\n",
        "\n",
        "def add(x, y): return ['+', x, y]\n",
        "def sub(x, y): return ['-', x, y]\n",
        "def mul(x, y): return ['*', x, y]\n",
        "def div(x, y): return ['/', x, y]\n",
        "def sqrt_n_(x, y): return ['sqrt_n',x, y]\n",
        "def power(x, y): return ['^', x, y]\n",
        "def negative(x): return ['~', x]\n",
        "def sin_(x): return ['sin', x]\n",
        "def cos_(x): return ['cos', x]\n",
        "def sqrt_(x): return ['sqrt', x]\n",
        "def arcsh_(x): return ['arcsh',x]\n",
        "def arcch_(x): return ['arcch',x]\n",
        "def arcth_(x): return ['arcth',x]\n",
        "def arccth_(x): return ['arccth',x]\n",
        "def sh_(x): return ['sh',x]\n",
        "def ch_(x): return ['ch',x]\n",
        "def th_(x): return ['th',x]\n",
        "def cth_(x): return ['cth',x]\n",
        "def sin_(x): return ['sin',x]\n",
        "def cos_(x): return ['cos',x]\n",
        "def tg_(x): return ['tg',x]\n",
        "def ctg_(x): return ['ctg',x]\n",
        "def arcsin_(x): return ['arcsin',x]\n",
        "def arccos_(x): return ['arccos',x]\n",
        "def arctg_(x): return ['arctg',x]\n",
        "def arcctg_(x): return ['arcctg',x]\n",
        "def ln_(x): return ['ln',x]\n",
        "def lg_(x): return ['lg',x]\n",
        "def log_a_(x, y): return ['log_a', x, y]\n",
        "def abs_(x): return ['abs', x]\n",
        "\n",
        "def evalf(x, arg = {}):\n",
        "  if isinstance(x, Expression):\n",
        "    if isinstance(arg, dict):\n",
        "      arg = {i.T: arg[i] for i in arg}\n",
        "    else:\n",
        "      arg = {'$': arg}\n",
        "    return evalf(x.T, arg)\n",
        "\n",
        "  if isinstance(x, int):\n",
        "    return x\n",
        "\n",
        "  if x == 'pi':\n",
        "      return np.pi\n",
        "\n",
        "  if x == 'e':\n",
        "      return np.e\n",
        "  if isinstance(x, float):\n",
        "    return x\n",
        "\n",
        "  if isinstance(x, str):\n",
        "    if x in arg:\n",
        "      return arg[x]\n",
        "    return arg['$']\n",
        "\n",
        "  op = x[0]\n",
        "  if op in '+-*/^' or op == 'sqrt_n' or op == 'log_a':\n",
        "    l, r = evalf(x[1], arg), evalf(x[2], arg)\n",
        "    if op == '+':\n",
        "      return l + r\n",
        "    if op == '-':\n",
        "      return l - r\n",
        "    if op == '*':\n",
        "      return l * r\n",
        "    if op == '/':\n",
        "      return l / r\n",
        "    if op == '^':\n",
        "      return l ** r\n",
        "    if op == 'sqrt_n':\n",
        "      return l ** (1/r)\n",
        "    if op == 'log_a':\n",
        "      return np.log(l)/np.log(r)\n",
        "  else:\n",
        "    a = evalf(x[1], arg)\n",
        "    if op == '~':\n",
        "      return - a\n",
        "    if op == 'sin':\n",
        "      return np.sin(a)\n",
        "    if op == 'abs':\n",
        "      return np.abs(a)\n",
        "    if op == 'cos':\n",
        "      return np.cos(a)\n",
        "    if op == 'sqrt':\n",
        "      return np.sqrt(a)\n",
        "    if op == 'arcsin':\n",
        "      return np.arcsin(a)\n",
        "    if op == 'arccos':\n",
        "      return np.arccos(a)\n",
        "    if op == 'arctg':\n",
        "      return np.arctg(a)\n",
        "    if op == 'arcctg':\n",
        "      return np.arcctg(a)\n",
        "    if op == 'ln':\n",
        "      return np.log(a)\n",
        "    if op == 'lg':\n",
        "      return np.log10(a)\n",
        "    if op == 'tg':\n",
        "      return np.tg(a)\n",
        "    if op == 'ctg':\n",
        "      return np.ctg(a)\n",
        "    if op == 'sh':\n",
        "      return np.sinh(a)\n",
        "    if op == 'ch':\n",
        "      return np.cosh(a)\n",
        "    if op == 'th':\n",
        "      return np.tanh(a)\n",
        "    if op == 'cth':\n",
        "      return 1/np.tanh(a)\n",
        "    if op == 'arcsh':\n",
        "      return np.arcsinh(a)\n",
        "    if op == 'arcch':\n",
        "      return np.arccosh(a)\n",
        "    if op == 'arcth':\n",
        "      return np.arctanh(a)\n",
        "    if op == 'arccth':\n",
        "      return 1/2*np.log((a+1)/(a-1))\n",
        "  return None\n"
      ],
      "metadata": {
        "id": "sY4tqwykKsKs"
      },
      "execution_count": null,
      "outputs": []
    },
    {
      "cell_type": "markdown",
      "source": [
        "2. Класс должен поддерживать:\n",
        "• четыре арифметические операции;\n",
        "• операцию возведения в степень;\n",
        "• функции √x,n√ x, ln x, lg x, loga x;\n",
        "• функцию |x| — вычисление модуля заданного выражения (функция abs в Python);\n",
        "• тригонометрические функции;\n",
        "• обратные тригонометрические функции;\n",
        "• гиперболические функции;\n",
        "• обратные гиперболические функции;\n",
        "• константы π и e."
      ],
      "metadata": {
        "id": "SSvM1bVuQHH5"
      }
    },
    {
      "cell_type": "code",
      "source": [
        "x = Expression('x')\n",
        "y = Expression('y')\n",
        "show(x+y)\n",
        "show(x-y)\n",
        "show(x*y)\n",
        "show(x/y)\n",
        "show(x+y)\n",
        "show(x**2)\n",
        "show(sqrt(x))\n",
        "show(ln(x))\n",
        "show(lg(x))\n",
        "show(sin(x))\n",
        "show(cos(x))\n",
        "show(tg(x))\n",
        "show(ctg(x))\n",
        "show(arcsin(x))\n",
        "show(arccos(x))\n",
        "show(arctg(x))\n",
        "show(arcctg(x))\n",
        "show(sh(x))\n",
        "show(ch(x))\n",
        "show(th(x))\n",
        "show(cth(x))\n",
        "show(arcsh(x))\n",
        "show(arcch(x))\n",
        "show(arcth(x))\n",
        "show(arccth(x))"
      ],
      "metadata": {
        "id": "9Ifge1IYPxH2",
        "colab": {
          "base_uri": "https://localhost:8080/",
          "height": 575
        },
        "outputId": "f86d9bee-c12b-483c-dd6d-f16aa067c427"
      },
      "execution_count": null,
      "outputs": [
        {
          "output_type": "display_data",
          "data": {
            "text/plain": [
              "<IPython.core.display.Math object>"
            ],
            "text/latex": "$\\displaystyle x + y$"
          },
          "metadata": {}
        },
        {
          "output_type": "display_data",
          "data": {
            "text/plain": [
              "<IPython.core.display.Math object>"
            ],
            "text/latex": "$\\displaystyle x - y$"
          },
          "metadata": {}
        },
        {
          "output_type": "display_data",
          "data": {
            "text/plain": [
              "<IPython.core.display.Math object>"
            ],
            "text/latex": "$\\displaystyle x \\cdot y$"
          },
          "metadata": {}
        },
        {
          "output_type": "display_data",
          "data": {
            "text/plain": [
              "<IPython.core.display.Math object>"
            ],
            "text/latex": "$\\displaystyle \\dfrac{x}{y}$"
          },
          "metadata": {}
        },
        {
          "output_type": "display_data",
          "data": {
            "text/plain": [
              "<IPython.core.display.Math object>"
            ],
            "text/latex": "$\\displaystyle x + y$"
          },
          "metadata": {}
        },
        {
          "output_type": "display_data",
          "data": {
            "text/plain": [
              "<IPython.core.display.Math object>"
            ],
            "text/latex": "$\\displaystyle {x}^{2}$"
          },
          "metadata": {}
        },
        {
          "output_type": "display_data",
          "data": {
            "text/plain": [
              "<IPython.core.display.Math object>"
            ],
            "text/latex": "$\\displaystyle \\sqrt{x}$"
          },
          "metadata": {}
        },
        {
          "output_type": "display_data",
          "data": {
            "text/plain": [
              "<IPython.core.display.Math object>"
            ],
            "text/latex": "$\\displaystyle \\ln x$"
          },
          "metadata": {}
        },
        {
          "output_type": "display_data",
          "data": {
            "text/plain": [
              "<IPython.core.display.Math object>"
            ],
            "text/latex": "$\\displaystyle \\lg x$"
          },
          "metadata": {}
        },
        {
          "output_type": "display_data",
          "data": {
            "text/plain": [
              "<IPython.core.display.Math object>"
            ],
            "text/latex": "$\\displaystyle \\sin x$"
          },
          "metadata": {}
        },
        {
          "output_type": "display_data",
          "data": {
            "text/plain": [
              "<IPython.core.display.Math object>"
            ],
            "text/latex": "$\\displaystyle \\cos x$"
          },
          "metadata": {}
        },
        {
          "output_type": "display_data",
          "data": {
            "text/plain": [
              "<IPython.core.display.Math object>"
            ],
            "text/latex": "$\\displaystyle \\tg x$"
          },
          "metadata": {}
        },
        {
          "output_type": "display_data",
          "data": {
            "text/plain": [
              "<IPython.core.display.Math object>"
            ],
            "text/latex": "$\\displaystyle \\ctg x$"
          },
          "metadata": {}
        },
        {
          "output_type": "display_data",
          "data": {
            "text/plain": [
              "<IPython.core.display.Math object>"
            ],
            "text/latex": "$\\displaystyle \\arcsin x$"
          },
          "metadata": {}
        },
        {
          "output_type": "display_data",
          "data": {
            "text/plain": [
              "<IPython.core.display.Math object>"
            ],
            "text/latex": "$\\displaystyle \\arccos x$"
          },
          "metadata": {}
        },
        {
          "output_type": "display_data",
          "data": {
            "text/plain": [
              "<IPython.core.display.Math object>"
            ],
            "text/latex": "$\\displaystyle \\arctg x$"
          },
          "metadata": {}
        },
        {
          "output_type": "display_data",
          "data": {
            "text/plain": [
              "<IPython.core.display.Math object>"
            ],
            "text/latex": "$\\displaystyle \\arcctg x$"
          },
          "metadata": {}
        },
        {
          "output_type": "display_data",
          "data": {
            "text/plain": [
              "<IPython.core.display.Math object>"
            ],
            "text/latex": "$\\displaystyle \\sh x$"
          },
          "metadata": {}
        },
        {
          "output_type": "display_data",
          "data": {
            "text/plain": [
              "<IPython.core.display.Math object>"
            ],
            "text/latex": "$\\displaystyle \\ch x$"
          },
          "metadata": {}
        },
        {
          "output_type": "display_data",
          "data": {
            "text/plain": [
              "<IPython.core.display.Math object>"
            ],
            "text/latex": "$\\displaystyle \\th x$"
          },
          "metadata": {}
        },
        {
          "output_type": "display_data",
          "data": {
            "text/plain": [
              "<IPython.core.display.Math object>"
            ],
            "text/latex": "$\\displaystyle \\cth x$"
          },
          "metadata": {}
        },
        {
          "output_type": "display_data",
          "data": {
            "text/plain": [
              "<IPython.core.display.Math object>"
            ],
            "text/latex": "$\\displaystyle arcsinh x$"
          },
          "metadata": {}
        },
        {
          "output_type": "display_data",
          "data": {
            "text/plain": [
              "<IPython.core.display.Math object>"
            ],
            "text/latex": "$\\displaystyle arccosh x$"
          },
          "metadata": {}
        },
        {
          "output_type": "display_data",
          "data": {
            "text/plain": [
              "<IPython.core.display.Math object>"
            ],
            "text/latex": "$\\displaystyle arctanh x$"
          },
          "metadata": {}
        },
        {
          "output_type": "display_data",
          "data": {
            "text/plain": [
              "<IPython.core.display.Math object>"
            ],
            "text/latex": "$\\displaystyle arcctanh x$"
          },
          "metadata": {}
        }
      ]
    },
    {
      "cell_type": "markdown",
      "source": [
        "3. Реализовать методы класса Expression:\n",
        "• evalf — вычисление выражения в формате с плавающей точкой;\n",
        "• show — для преобразования в формат LATEX и вывода выражения на экран;\n",
        "• isconst — для проверки, включает ли в себя выражение какие-нибудь переменные\n",
        "(т.е. является функцией) или нет (т.е. является константой)."
      ],
      "metadata": {
        "id": "N06B06WnuKT2"
      }
    },
    {
      "cell_type": "code",
      "source": [
        "x = Expression('x')\n",
        "y = Expression('y')\n",
        "z = Expression('z')\n",
        "f = x + y * cos(z)\n",
        "show(f)"
      ],
      "metadata": {
        "colab": {
          "base_uri": "https://localhost:8080/",
          "height": 39
        },
        "id": "3eB8ydrKuNMf",
        "outputId": "9acd1c65-9ce1-4cd9-de4b-1c5dcb44e87c"
      },
      "execution_count": null,
      "outputs": [
        {
          "output_type": "display_data",
          "data": {
            "text/plain": [
              "<IPython.core.display.Math object>"
            ],
            "text/latex": "$\\displaystyle x + y \\cdot \\cos z$"
          },
          "metadata": {}
        }
      ]
    },
    {
      "cell_type": "markdown",
      "source": [
        "5. Реализовать функцию plotParametric([F, G], (t, t1, t2) построения графика параметрически заданной функции: x(t) = F(t), y(t) = G(t), t ∈ [t1, t2]."
      ],
      "metadata": {
        "id": "2DPXmWPr8HuK"
      }
    },
    {
      "cell_type": "code",
      "source": [
        "def plotParametric(F, G, t, t1, t2):\n",
        "  T = np.linspace(t1, t2, 1000)\n",
        "  X = evalf(F, {t: T})\n",
        "  Y = evalf(G, {t: T})\n",
        "  plt.plot(X, Y)"
      ],
      "metadata": {
        "id": "k0oo6Rjs8G4A"
      },
      "execution_count": null,
      "outputs": []
    },
    {
      "cell_type": "code",
      "source": [
        "t = Expression('t')\n",
        "f = 2*t**2\n",
        "g = t\n",
        "plotParametric(f, g, t, -2, 2)"
      ],
      "metadata": {
        "id": "AhR_rLHK-2AA",
        "colab": {
          "base_uri": "https://localhost:8080/",
          "height": 265
        },
        "outputId": "31bc7a8f-2986-4f98-e0b9-7978be8aa882"
      },
      "execution_count": null,
      "outputs": [
        {
          "output_type": "display_data",
          "data": {
            "text/plain": [
              "<Figure size 432x288 with 1 Axes>"
            ],
            "image/png": "[encoded data removed]"
          },
          "metadata": {
            "needs_background": "light"
          }
        }
      ]
    },
    {
      "cell_type": "markdown",
      "source": [
        "Бонусные задания\n",
        "√n x, loga x, модуль, пи, е"
      ],
      "metadata": {
        "id": "rV2OIg2GGDzU"
      }
    },
    {
      "cell_type": "code",
      "source": [
        "t = Expression('t')\n",
        "f = sqrt_n(t, 3)\n",
        "show(f)\n",
        "show(evalf(sqrt_n(8, 3)))\n",
        "show(log_a(t, 2))\n",
        "show(evalf(log_a(8, 2)))\n",
        "show(abs(t))\n",
        "evalf(abs(-1))\n",
        "x = Expression('pi')\n",
        "show(x)\n",
        "show(evalf(x))\n",
        "show('e')\n",
        "show(evalf('e'))"
      ],
      "metadata": {
        "colab": {
          "base_uri": "https://localhost:8080/",
          "height": 207
        },
        "id": "CAig3pXXGjBI",
        "outputId": "ed9e7cc1-2cda-4be3-845c-5f6f2a5dfe16"
      },
      "execution_count": null,
      "outputs": [
        {
          "output_type": "display_data",
          "data": {
            "text/plain": [
              "<IPython.core.display.Math object>"
            ],
            "text/latex": "$\\displaystyle \\sqrt[3]{t}$"
          },
          "metadata": {}
        },
        {
          "output_type": "display_data",
          "data": {
            "text/plain": [
              "<IPython.core.display.Math object>"
            ],
            "text/latex": "$\\displaystyle 2.0$"
          },
          "metadata": {}
        },
        {
          "output_type": "display_data",
          "data": {
            "text/plain": [
              "<IPython.core.display.Math object>"
            ],
            "text/latex": "$\\displaystyle \\log_2{t}$"
          },
          "metadata": {}
        },
        {
          "output_type": "display_data",
          "data": {
            "text/plain": [
              "<IPython.core.display.Math object>"
            ],
            "text/latex": "$\\displaystyle 3.0$"
          },
          "metadata": {}
        },
        {
          "output_type": "display_data",
          "data": {
            "text/plain": [
              "<IPython.core.display.Math object>"
            ],
            "text/latex": "$\\displaystyle |t|$"
          },
          "metadata": {}
        },
        {
          "output_type": "display_data",
          "data": {
            "text/plain": [
              "<IPython.core.display.Math object>"
            ],
            "text/latex": "$\\displaystyle pi$"
          },
          "metadata": {}
        },
        {
          "output_type": "display_data",
          "data": {
            "text/plain": [
              "<IPython.core.display.Math object>"
            ],
            "text/latex": "$\\displaystyle 3.141592653589793$"
          },
          "metadata": {}
        },
        {
          "output_type": "display_data",
          "data": {
            "text/plain": [
              "<IPython.core.display.Math object>"
            ],
            "text/latex": "$\\displaystyle e$"
          },
          "metadata": {}
        },
        {
          "output_type": "display_data",
          "data": {
            "text/plain": [
              "<IPython.core.display.Math object>"
            ],
            "text/latex": "$\\displaystyle 2.718281828459045$"
          },
          "metadata": {}
        }
      ]
    },
    {
      "cell_type": "markdown",
      "source": [
        "Полярная система координат"
      ],
      "metadata": {
        "id": "6woy5JVpiVHn"
      }
    },
    {
      "cell_type": "code",
      "source": [
        "def plotPolar(R, phi, phi1, phi2):\n",
        "  Phi = np.arange(phi1, phi2, 0.1)\n",
        "  fig = plt.figure(figsize=(7, 4))\n",
        "  ax = fig.add_subplot(projection='polar')\n",
        "  ax.plot(Phi, evalf(R, {phi: Phi}))\n",
        "  plt.show()"
      ],
      "metadata": {
        "id": "Im7OOEfkiY_O"
      },
      "execution_count": null,
      "outputs": []
    },
    {
      "cell_type": "code",
      "source": [
        "phi = Expression('phi')\n",
        "r = sin(3*phi)\n",
        "plotPolar(r, phi, 0, 360)"
      ],
      "metadata": {
        "colab": {
          "base_uri": "https://localhost:8080/",
          "height": 286
        },
        "id": "kTl3RVSLj0ZO",
        "outputId": "ce6b8375-7950-4d21-adbb-31fed2c33b26"
      },
      "execution_count": null,
      "outputs": [
        {
          "output_type": "display_data",
          "data": {
            "text/plain": [
              "<Figure size 504x288 with 1 Axes>"
            ],
            "image/png": "[encoded data removed]"
          },
          "metadata": {
            "needs_background": "light"
          }
        }
      ]
    }
  ]
}