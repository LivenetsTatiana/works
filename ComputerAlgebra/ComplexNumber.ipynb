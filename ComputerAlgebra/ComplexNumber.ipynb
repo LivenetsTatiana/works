{
  "nbformat": 4,
  "nbformat_minor": 0,
  "metadata": {
    "colab": {
      "provenance": [],
      "authorship_tag": "ABX9TyNW1yooOJdGPp7gYqK+kWsc",
      "include_colab_link": true
    },
    "kernelspec": {
      "name": "python3",
      "display_name": "Python 3"
    },
    "language_info": {
      "name": "python"
    }
  },
  "cells": [
    {
      "cell_type": "markdown",
      "metadata": {
        "id": "view-in-github",
        "colab_type": "text"
      },
      "source": [
        "<a href=\"https://colab.research.google.com/github/LivenetsTatiana/works/blob/main/ComputerAlgebra/ComplexNumber.ipynb\" target=\"_parent\"><img src=\"https://colab.research.google.com/assets/colab-badge.svg\" alt=\"Open In Colab\"/></a>"
      ]
    },
    {
      "cell_type": "code",
      "source": [
        "from IPython.display import display, Math\n",
        "from math import sqrt"
      ],
      "metadata": {
        "id": "22bc7HTPodpN"
      },
      "execution_count": null,
      "outputs": []
    },
    {
      "cell_type": "code",
      "execution_count": null,
      "metadata": {
        "id": "RC3bhPV5oS6o"
      },
      "outputs": [],
      "source": [
        "class Complex:\n",
        "    def __init__(self, real, imag):\n",
        "          self.re = real\n",
        "          self.im = imag\n",
        "    def __add__(self, o):\n",
        "          return Complex(self.re+o.re, self.im+o.im)\n",
        "    def __sub__(self, o):\n",
        "          return Complex(self.re-o.re, self.im-o.im)\n",
        "    def __mul__(self, o):\n",
        "          return Complex(self.re*o.re-self.im*o.im, self.re * o.im + self.im * o.re)\n",
        "    def __truediv__(self, o):\n",
        "          m = o.re * o.re + o.im * o.im\n",
        "          return Complex((self.re * o.re + self.im * o.im)/m, (self.im * o.re - self.re * o.im)/m)\n",
        "    def __str__(self):\n",
        "          if self.im == 0:\n",
        "            return '%.2f' % self.re\n",
        "          if self.re == 0:\n",
        "            return '%.2fi' % self.im\n",
        "          if self.im < 0:\n",
        "            return '%.2f - %.2fi' % (self.re, -self.im)\n",
        "          else:\n",
        "            return '%.2f + %.2fi' % (self.re, self.im)\n",
        "    def mod(self):\n",
        "          return sqrt(self.re*self.re+self.im*self.im)"
      ]
    },
    {
      "cell_type": "code",
      "source": [
        "def solve(comp1, comp2):\n",
        "   print(comp1 + comp2)\n",
        "   print(comp1 - comp2)\n",
        "   print(comp1 * comp2)\n",
        "   print(comp1 / comp2)\n",
        "   print('%.2f' % comp1.mod())\n",
        "   print('%.2f' % comp2.mod())\n",
        "\n",
        "comp1 = Complex(2.0, 3)\n",
        "comp2 = Complex(5, -2)\n",
        "solve(comp1, comp2)"
      ],
      "metadata": {
        "colab": {
          "base_uri": "https://localhost:8080/"
        },
        "id": "mzYt3DELpkmM",
        "outputId": "c1ac215b-6f33-4b48-9c91-76f46deaa97c"
      },
      "execution_count": null,
      "outputs": [
        {
          "output_type": "stream",
          "name": "stdout",
          "text": [
            "7.00 + 1.00i\n",
            "-3.00 + 5.00i\n",
            "16.00 + 11.00i\n",
            "0.14 + 0.66i\n",
            "3.61\n",
            "5.39\n"
          ]
        }
      ]
    }
  ]
}