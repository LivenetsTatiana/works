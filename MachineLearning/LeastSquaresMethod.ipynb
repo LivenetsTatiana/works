{
  "nbformat": 4,
  "nbformat_minor": 0,
  "metadata": {
    "colab": {
      "provenance": [],
      "toc_visible": true,
      "mount_file_id": "1iUP7o8GuAkhGgplo9_I0cWx0jSEg5WIJ",
      "authorship_tag": "ABX9TyNZRv5HPI69L4BCaS1b/JI1",
      "include_colab_link": true
    },
    "kernelspec": {
      "name": "python3",
      "display_name": "Python 3"
    },
    "language_info": {
      "name": "python"
    }
  },
  "cells": [
    {
      "cell_type": "markdown",
      "metadata": {
        "id": "view-in-github",
        "colab_type": "text"
      },
      "source": [
        "<a href=\"https://colab.research.google.com/github/LivenetsTatiana/works/blob/main/MachineLearning/LeastSquaresMethod.ipynb\" target=\"_parent\"><img src=\"https://colab.research.google.com/assets/colab-badge.svg\" alt=\"Open In Colab\"/></a>"
      ]
    },
    {
      "cell_type": "markdown",
      "source": [
        " ### **<center>Применение метода наименьших квадратов<center/>**\n",
        "**Цель**: изучить и реализовать метод наименьших квадратов\n",
        "\n",
        "**Исходные данные:** сгенерированный набор данных\n",
        "\n",
        "**Задания:**\n",
        "1. Изучить статью \"Метод наименьших квадратов: формулы, код и применение\"\n",
        "2. Повторить все этапы работы в собственном блокноте (включая формулы (текстовые ячейки) и графики)\n",
        "3. Написать построенные комментарии в коде (используйте #)\n",
        "4. По аналогии с примером из статьи придумать собственный набор данных\n",
        "5. Реализовать весь процесс, описанный в статье с собственным набором данных (обратите внимание на распределение и блок статьи с дополнительными данными (выбросами))\n",
        "6. Проверить результаты работы с помощью библиотеки sklearn (LinearRegression)\n",
        "7. Написать выводы о проделанной работе\n",
        "\n"
      ],
      "metadata": {
        "id": "l4OEinEYvwbm"
      }
    },
    {
      "cell_type": "markdown",
      "source": [
        "# **Необходимые библиотеки**"
      ],
      "metadata": {
        "id": "xYRHh3sExySl"
      }
    },
    {
      "cell_type": "code",
      "source": [
        "import random # для генерации случайных чисел\n",
        "import matplotlib.pyplot as plt # для визуализации\n",
        "import numpy as np # для операций с матрицами\n",
        "from sklearn.linear_model import LinearRegression # для проверки результатов"
      ],
      "metadata": {
        "id": "62Mo0mdQ3B0O"
      },
      "execution_count": null,
      "outputs": []
    },
    {
      "cell_type": "markdown",
      "source": [
        "# **Генерация данных**\n"
      ],
      "metadata": {
        "id": "UIJvalhuAUSP"
      }
    },
    {
      "cell_type": "markdown",
      "source": [
        "В качестве анализируемых данных будем рассматривать n значений популяции слонов, измеренной в особях, зависящие от времени. Эти данные представим в виде таблицы, где строки – это объекты, первый столбец – набор параметров (j=1), второй столбец – набор измеренных ответов:\n",
        "\n"
      ],
      "metadata": {
        "id": "wc101wuv-f2w"
      }
    },
    {
      "cell_type": "markdown",
      "source": [
        "$$\n",
        "\\begin{array}{|c|c|}\n",
        "\\hline \\begin{array}{c}\n",
        "\\text { Порядковый }(i \\text {-ый }) \\\\\n",
        "\\text { номер измерения } x_i\n",
        "\\end{array} & \\text { Оценка численности популяции, }{ шт } \\\\\n",
        "\\hline x_1 & y_1 \\\\\n",
        "\\hline x_2 & y_2 \\\\\n",
        "\\hline \\ldots & \\ldots \\\\\n",
        "\\hline x_n & y_n \\\\\n",
        "\\hline\n",
        "\\end{array}\n",
        "$$"
      ],
      "metadata": {
        "id": "fkBgrbAdMukh"
      }
    },
    {
      "cell_type": "markdown",
      "source": [
        "Математически регистрируемый процесс можно описать в виде\n",
        "$$\n",
        "y_i=w_0+w_1 x_i+\\varepsilon_i, i=1, \\ldots, n,    \\qquad \\qquad   (1)\n",
        "$$\n",
        "где\n",
        "\n",
        "$w_0$ - действительное значение свободного коэффициента модели,\n",
        "\n",
        "$w_1$ - действительное значение весового коэффициента модели,\n",
        "\n",
        "$\\varepsilon_i-$ белый гауссовский (нормальный) шум, т.е. случайная величина, распределённая по закону Гаусса с фиксированным значением среднеквадратического отклонения (СКО), нулевым математическим ожиданием (МО) и с автокорреляционной функцией в виде дельта-функции."
      ],
      "metadata": {
        "id": "wlGfBrSU_Qne"
      }
    },
    {
      "cell_type": "markdown",
      "source": [
        "Приведенный далее код реализует выражение (1) с заданными начальными значениями:\n",
        "- действительных значений весовых коэффнциентов $w_0=2, w_1=3$;\n",
        "- размера генерируемого набора данных $n=100$;\n",
        "- порядковый номер измерений температуры ( $i$ меняется от 0 до 99 с шагом 1 ;\n",
        "- значение СКО шума добавляемого к данным $\\sigma(\\varepsilon)=10$;\n",
        "- МО шума добавляемого к данным $\\mu(\\varepsilon)=0$\n",
        "- фиксируем начальное состояния генератора случайных чисел для повторяемости результатов (random_state $=50$ )."
      ],
      "metadata": {
        "id": "jdKDCu8DZYfk"
      }
    },
    {
      "cell_type": "code",
      "source": [
        "def datasets_make_regression(coef, data_size, noise_sigma, random_state): # функция для генерации данных по формуле (1),\n",
        "                                                                          # на вход коэффициенты формулы (1), количество генерируемых значений\n",
        "                                                                          # и начальное состояние генератора случайных чисел, чтобы при повторной\n",
        "                                                                          # компиляции с этим же состоянием значения не менялись\n",
        "    x = np.arange(0, data_size, 1) # массив для данных\n",
        "    mu = 0 # матожидание для шума\n",
        "    random.seed(random_state) # в генератор случайных чисел заносим начальное состояние\n",
        "    noise = np.empty((data_size, 1)) # пустой массив для шума размером с массив x и типом int\n",
        "    y = np.empty((data_size, 1)) # пустой массив для численности слонов размером с массив x и типом int\n",
        "\n",
        "    for i in range(data_size): # генерим массив численности для каждого года из 100 лет по формуле (1)\n",
        "        noise[i] = random.gauss(mu, noise_sigma)\n",
        "        y[i] = coef[0] + coef[1]*x[i] + noise[i]\n",
        "\n",
        "    return x, y # возвращаем массив лет и массив численности животных\n",
        "\n",
        "coef_true = [2, 3] # весовые коэффициенты\n",
        "data_size = 100 # размер генерируемого набора данных\n",
        "noise_sigma = 10 # СКО шума в данных\n",
        "random_state = 50\n",
        "x_scale, y_estimate = datasets_make_regression(coef_true, data_size, noise_sigma, random_state)\n",
        "\n",
        "plt.plot(x_scale, y_estimate, 'o')  # строим график по сгенерированным данным\n",
        "plt.xlabel('x (порядковый номер измерения)', fontsize=14)\n",
        "plt.ylabel('y (оценка численности популяции слонов)', fontsize=14)\n",
        "plt.title('численность слонов по годам')\n",
        "print()"
      ],
      "metadata": {
        "colab": {
          "base_uri": "https://localhost:8080/",
          "height": 363
        },
        "id": "wXsgLIUvuEjg",
        "outputId": "57ffe053-4eff-4741-b006-f3836b4ab1ce"
      },
      "execution_count": null,
      "outputs": [
        {
          "output_type": "stream",
          "name": "stdout",
          "text": [
            "\n"
          ]
        },
        {
          "output_type": "display_data",
          "data": {
            "text/plain": [
              "<Figure size 432x288 with 1 Axes>"
            ],
            "image/png": "[encoded data removed]"
          },
          "metadata": {
            "needs_background": "light"
          }
        }
      ]
    },
    {
      "cell_type": "markdown",
      "source": [
        "# **Математические модели**"
      ],
      "metadata": {
        "id": "XxWvSUqxhjMQ"
      }
    },
    {
      "cell_type": "markdown",
      "source": [
        "Далее математическая модель будет описана три раза. Последовательно уровень абстракции при описании модели будет понижаться и конкретизироваться. Эти описания приведены для того, чтобы в дальнейшем материал, приведенный в статье, можно было соотнести с классическими изданиями."
      ],
      "metadata": {
        "id": "iGb176nziHYv"
      }
    },
    {
      "cell_type": "markdown",
      "source": [
        "**Первое описание математической модели. Самое общее.**\n",
        "\n",
        "Поскольку мы рассматриваем процесс, который связывает набор наблюдаемых параметров и измеренных ответов с минимальной ошибкой этой связи, то математическую модель этого процесса в общем виде можно представить\n",
        "$$\n",
        "\\left\\{\\begin{array}{c}\n",
        "f\\left(w^*{ }_{j=\\overline{1, u}}, x_{i=\\overline{1, n}, j=\\overline{1, k}}\\right)=\\hat{y}_{i=\\overline{1, n}}\\left(w^*, x\\right), \\\\\n",
        "w^* _{j=\\overline{1, m}}=\\underset{w^*}{\\operatorname{argmin}}\\left[Q\\left(\\hat{y}_{i=\\overline{1, n}}\\left(w^*, x\\right), y_{i=\\overline{1, n}}\\right)\\right] ;\n",
        "\\end{array}\\right.  \\qquad \\qquad (M1)\n",
        "$$\n",
        "где\n",
        "\n",
        "$\\quad x_{i=\\overline{1, n}, j=\\overline{1, k}}-$ набор из $n$ значений объекта, где в каждый $i$-ый момент измеряется $k$ его параметров (матрица размерностью $n \\times k$ ),\n",
        "\n",
        "$i=\\overline{1, n}-$ обозначение набора из $n$ индексов вида $i=1,2,3, \\ldots, n$,\n",
        "\n",
        "$w^*{ }_{j=1, u}-$ вектор параметров модели размерностью $u$,\n",
        "\n",
        "$\\hat{y}_{i=\\overline{1, n}}\\left(w^*, x\\right)-i$-ая оценка ответа,\n",
        "\n",
        "$f-$ функция, которая $i$-ый набор значений из $k$ параметров объекта, преобразует с использованием вектора параметров $w$ в $i$-ое значение ответа $\\hat{y}_i$,\n",
        "\n",
        "$Q$ - неотрицательная функция ошибки, оценивающая расстояние между рассчитанным значениями $\\hat{y}_{i=1, n}$ и измеренным $y_{i=\\overline{1, n}}$ на основе выбранной метрики."
      ],
      "metadata": {
        "id": "RxIZP2HnZu5S"
      }
    },
    {
      "cell_type": "markdown",
      "source": [
        "**Второе описание математической модели. Общее описание линейной модели.**\n",
        "\n",
        "Поскольку по условию задачи мы рассматриваем линейную зависимость, на которую влияет шум, имеющий нормальное распределение с нулевым средним значением, то используем линейную относительно параметров модель, а метрикой выберем расчёт СКО ошибки\n",
        "$$\n",
        "\\left\\{\\begin{array}{c}\n",
        "w_0^*+\\sum_{j=1}^m w_j^* x_{i j}=\\hat{y}_l\\left(w^*, x\\right), \\\\\n",
        "Q\\left(w^*, x\\right)=\\frac{1}{n} \\sum_{i=1}^n\\left(\\widehat{y}_l\\left(w^*, x\\right)-y_i\\right)^2 \\\\\n",
        "w*_{j=\\overline{1, m}}=\\underset{w^*}{\\operatorname{argmin}}\\left[Q\\left(w^*, x\\right)\\right]\n",
        "\\end{array}\\right. \\qquad \\qquad (M2)\n",
        "$$\n",
        "где $x_{i=\\overline{1, n}, j=\\overline{1, m}}-$ набор из $n$ значений объекта, где в каждый $i$-ый момент измеряется $m$ его параметров (матрица размерностью $n \\times \\mathrm{m}$ ),\n",
        "\n",
        "$w_0^*$ - свободный коэффициент модели,\n",
        "\n",
        "$w^*{ }_{j=\\overline{1, m}}-$ вектор весовых коэффициентов модели размерностью $m$,\n",
        "\n",
        "$\\hat{y}_i\\left(w^*, x\\right)-i$-ая оценка ответа, полученная с использованием свободного коэффициента $w_0$ и вектора параметров модели размерностью $w^*$,\n",
        "\n",
        "$y_i-i$-ый измеренный ответ,\n",
        "\n",
        "$Q$ - неотрицательная функция ошибки, оценивающая расстояние между рассчитанным значениями $\\hat{y}_{i=\\overline{1, n}}$ и измеренным $y_{i=1, n}$ на основе выбранной метрики."
      ],
      "metadata": {
        "id": "CpGtuf7Fjj5e"
      }
    },
    {
      "cell_type": "markdown",
      "source": [
        "**Третье описание математической модели. Модель конкретизирована под условия примера.**\n",
        "\n",
        "Поскольку по условию задачи мы рассматриваем линейную зависимость одного параметра (поскольку $j=1$, то далее эту зависимость при описании опустим), на оценку которого влияет шум, имеющий нормальное распределение, то используем линейную модель с двумя коэффициентами\n",
        "$w^*=\\left(\\begin{array}{l}w_1^* \\\\ w_0^*\\end{array}\\right)$, а метрикой выберем расчёт среднеквадратической ошибки\n",
        "$$\n",
        "\\left\\{\\begin{array}{c}\n",
        "w_0^*+w_1^* x_i=\\widehat{y}_l\\left(w^*, x\\right), \\\\\n",
        "Q\\left(w_0^*, w_1^*, x\\right)=\\frac{1}{n} \\sum_{i=1}^n\\left(\\hat{y}_l\\left(w^*, x\\right)-y_i\\right)^2 \\\\\n",
        "{\\left[w_0^*, w_1^*\\right]=\\underset{w_0^*, w_1^*}{\\operatorname{argmin}}\\left[Q\\left(w_0^*, w_1^*, x\\right)\\right]}\n",
        "\\end{array}\\right.  \\qquad \\qquad (M3)\n",
        "$$\n",
        "где $x_{i=\\overline{1, n}}-$ набор из $n$ значений объекта, где в каждый $i$-ый момент измеряется один его параметр (вектор размерностью $n$ ),\n",
        "\n",
        "$w_0^*-$ свободный коэффициент модели,\n",
        "\n",
        "$w_1^*-$ весовой коэффициент модели,\n",
        "\n",
        "$\\hat{y}_i\\left(w^*, x\\right)-i$-ая оценка ответа, полученная с использованием свободного коэффициента $w_0^*$ и параметра модели $w_1^*$,\n",
        "\n",
        "$y_i-i$-ый измеренный ответ,\n",
        "\n",
        "$Q$ - неотрицательная функция ошибки, оценивающая расстояние между рассчитанным значениями $\\hat{y}_{i=1 . n}$ и измеренным $y_{i=1 . n}$ на основе выбранной метрики."
      ],
      "metadata": {
        "id": "_gyDJscwkRHo"
      }
    },
    {
      "cell_type": "markdown",
      "source": [
        "Далее с использованием выражения (M3) и МНК, синтезируем алгоритмы, оценивающие параметры модели."
      ],
      "metadata": {
        "id": "1AFwJyfbmoxY"
      }
    },
    {
      "cell_type": "markdown",
      "source": [
        "# **Алгоритмы и реализующие их программы**"
      ],
      "metadata": {
        "id": "1DWkjCLgmuHO"
      }
    },
    {
      "cell_type": "markdown",
      "source": [
        "В общем случае задача нахождения коэффициентов модели (M3) заключается в нахождении двух переменных $w_0^*$ и $w_1^*$ при которых функция ошибки $Q$ принимает минимальное значение. То есть при данных $w_0^*$ и $w_1^*$ сумма квадратов отклонений экспериментальных данных от модельных (расчетных) значений будет наименьшей, собственно, поэтому метод наименьших квадратов и носит своё имя.\n",
        "\n",
        "Таким образом, нахождение коэффициентов $w_0^*$ и $w_1^*$ сводится к нахождению экстремума функции двух переменных\n",
        "$$\n",
        "Q\\left(w_0^*, w_1^*, x\\right)=\\frac{1}{n} \\sum_{i=1}^n\\left(w_0^*+w_1^* x_i-y_i\\right)^2\n",
        "$$\n",
        "Для этого необходимо\n",
        "- найти частные производные функции $Q\\left(w_0^*, w_1^*, x\\right)$ по искомым $w_0^*, w_1^*$;\n",
        "- приравнять полученные выражения к нулю;\n",
        "- решить полученную систему из двух уравнений с двумя неизвестными.\n",
        "Решение полученной системы уравнений и будет являться искомыми параметрами модели.\n",
        "Опишем аналитическое решение этой системы детально. Выполним расчет производной функции $Q\\left(w_0^*, w_1^*, x\\right)$ по параметру $w_0^*$."
      ],
      "metadata": {
        "id": "An7lgJNvmzee"
      }
    },
    {
      "cell_type": "markdown",
      "source": [
        "## Первый алгоритм оценки параметров модели"
      ],
      "metadata": {
        "id": "x-FCqa4moIFs"
      }
    },
    {
      "cell_type": "markdown",
      "source": [
        "Начнем с применения правила дифференцирования функции представленной в виде суммы\n",
        "$$\n",
        "\\frac{\\partial Q\\left(w_0^*, w_1^*, x\\right)}{\\partial w_0^*}=\\frac{\\partial\\left(\\frac{1}{n} \\sum_{i=1}^n\\left(w_0^*+w_1^* x_i-y_i\\right)^2\\right)}{\\partial w_0^*}=\\frac{1}{n} \\sum_{i=1}^n \\frac{\\partial\\left(w_0^*+w_1^* x_i-y_i\\right)^2}{\\partial w_0^*}=\n",
        "$$\n",
        "применим правило дифференцирования сложной функции\n",
        "$$\n",
        "=\\frac{1}{n} \\sum_{i=1}^n \\frac{\\partial\\left(w_0^*+w_1^* x_i-y_i\\right)^2}{\\partial\\left(w_0^*+w_1^* x_i-y_i\\right)} \\cdot \\frac{\\partial\\left(w_0^*+w_1^* x_i-y_i\\right)}{\\partial w_0^*}=\n",
        "$$\n",
        "применим правило дифференцирования функции представленной в виде суммы\n",
        "$$\n",
        "\\begin{gathered}\n",
        "=\\frac{1}{n} \\sum_{i=1}^n 2 \\cdot\\left(w_0^*+w_1^* x_i-y_i\\right) \\cdot\\left(\\frac{\\partial w_0^*}{\\partial w_0^*}+\\frac{\\partial\\left(w_1^* x_i\\right)}{\\partial w_0^*}-\\frac{\\partial y_i}{\\partial w_0^*}\\right)= \\\\\n",
        "=\\frac{2}{n} \\sum_{i=1}^n\\left(w_0^*+w_1^* x_i-y_i\\right) \\cdot(1+0-0)=\\frac{2}{n} \\sum_{i=1}^n\\left(w_0^*+w_1^* x_i-y_i\\right)\n",
        "\\end{gathered}\n",
        "$$\n",
        "Выполним расчет производной функции $Q\\left(w_0^*, w_1^*, x\\right)$ по параметру $w_1^*$ и применим правило дифференцирования функции представленной в виде суммы\n",
        "$$\n",
        "\\frac{\\partial Q\\left(w_0^*, w_1^*, x\\right)}{\\partial w_1^*}=\\frac{\\partial\\left(\\frac{1}{n} \\sum_{i=1}^n\\left(w_0^*+w_1^* x_i-y_i\\right)^2\\right)}{\\partial w_1^*}=\\frac{1}{n} \\sum_{i=1}^n \\frac{\\partial\\left(w_0^*+w_1^* x_i-y_i\\right)^2}{\\partial w_1^*}=\n",
        "$$\n",
        "применим правило нахождения производной сложной функции\n",
        "$$\n",
        "=\\frac{1}{n} \\sum_{i=1}^n \\frac{\\partial\\left(w_0^*+w_1^* x_i-y_i\\right)^2}{\\partial\\left(w_0^*+w_1^* x_i-y_i\\right)} \\cdot \\frac{\\partial\\left(w_0^*+w_1^* x_i-y_i\\right)}{\\partial w_1^*}=\n",
        "$$\n",
        "применим правило дифференцирования функции представленной в виде суммы\n",
        "$$\n",
        "\\begin{gathered}\n",
        "=\\frac{1}{n} \\sum_{i=1}^n 2 \\cdot\\left(w_0^*+w_1^* x_i-y_i\\right) \\cdot\\left(\\frac{\\partial w_0^*}{\\partial w_1^*}+\\frac{\\partial\\left(w_1^* x_i\\right)}{\\partial w_1^*}-\\frac{\\partial y_i}{\\partial w_1^*}\\right)= \\\\\n",
        "=\\frac{2}{n} \\sum_{i=1}^n\\left(w_0^*+w_1^* x_i-y_i\\right) \\cdot\\left(0+x_i-0\\right)=\\frac{2}{n} \\sum_{i=1}^n\\left(\\left(w_0^*+w_1^* x_i-y_i\\right) \\cdot x_i\\right) .\n",
        "\\end{gathered}\n",
        "$$\n",
        "Приравняем полученные производные к нулю и решим полученную систему уравнений\n",
        "$$\n",
        "\\left\\{\\begin{array}{c}\n",
        "\\frac{2}{n} \\sum_{i=1}^n\\left(w_0^*+w_1^* x_i-y_i\\right)=0, \\\\\n",
        "\\frac{2}{n} \\sum_{i=1}^n\\left(\\left(w_0^*+w_1^* x_i-y_i\\right) \\cdot x_i\\right)=0 .\n",
        "\\end{array}\\right.\n",
        "$$\n",
        "Раскроем скобки\n",
        "$$\n",
        "\\left\\{\\begin{array}{c}\n",
        "\\sum_{i=1}^n w_0^*+\\sum_{i=1}^n w_1^* x_i-\\sum_{i=1}^n y_i=0 \\\\\n",
        "\\sum_{i=1}^n w_0^* x_i+\\sum_{i=1}^n w_1^* x_i^2-\\sum_{i=1}^n y_i x_i=0 .\n",
        "\\end{array}\\right.\n",
        "$$\n",
        "Вынесем постоянные множители за скобки\n",
        "$$\n",
        "\\left\\{\\begin{array}{c}\n",
        "n \\cdot w_0^*+w_1^* \\sum_{i=1}^n x_i-\\sum_{i=1}^n y_i=0 \\\\\n",
        "w_0^* \\sum_{i=1}^n x_i+w_1^* \\sum_{i=1}^n x_i^2-\\sum_{i=1}^n y_i x_i=0 .\n",
        "\\end{array}\\right.\n",
        "$$\n",
        "Вынесем слагаемые с множителем «у» в правую часть уравнений\n",
        "$$\n",
        "\\left\\{\\begin{aligned}\n",
        "n \\cdot w_0^*+w_1^* \\sum_{i=1}^n x_i & =\\sum_{i=1}^n y_i, \\\\\n",
        "w_0^* \\sum_{i=1}^n x_i+w_1^* \\sum_{i=1}^n x_i^2 & =\\sum_{i=1}^n y_i x_i .\n",
        "\\end{aligned}\\right.\n",
        "$$\n",
        "Поставим слагаемые с множителем «x» в левой части в порядке убывания степеней\n",
        "$$\n",
        "\\left\\{\\begin{array}{c}\n",
        "w_1^* \\sum_{i=1}^n x_i^2+w_0^* \\sum_{i=1}^n x_i=\\sum_{i=1}^n y_i x_i, \\\\\n",
        "w_1^* \\sum_{i=1}^n x_i+n \\cdot w_0^*=\\sum_{i=1}^n y_i\n",
        "\\end{array}\\right.\n",
        "$$\n",
        "Для решения полученной системы алгебраических уравнения представим её в матричной форме\n",
        "$$\n",
        "\\left(\\begin{array}{cc}\n",
        "\\sum_{i=1}^n x_i^2 & \\sum_{i=1}^n x_i \\\\\n",
        "\\sum_{i=1}^n x_i & n\n",
        "\\end{array}\\right)\\left(\\begin{array}{l}\n",
        "w_1^* \\\\\n",
        "w_0^*\n",
        "\\end{array}\\right)=\\left(\\begin{array}{c}\n",
        "\\sum_{i=1}^n y_i x_i \\\\\n",
        "\\sum_{i=1}^n y_i\n",
        "\\end{array}\\right) .\n",
        "$$\n",
        "Выразим вектор В $^{\\star}$ с искомыми весами выполнив умножение обеих частей равенства на обратную матрицу у\n",
        "$$\n",
        "\\left(\\begin{array}{l}\n",
        "w_1^* \\\\\n",
        "w_0^*\n",
        "\\end{array}\\right)=\\left(\\begin{array}{cc}\n",
        "\\sum_{i=1}^n x_i^2 & \\sum_{i=1}^n x_i \\\\\n",
        "\\sum_{i=1}^n x_i & n\n",
        "\\end{array}\\right)^{-1}\\left(\\begin{array}{c}\n",
        "\\sum_{i=1}^n y_i x_i \\\\\n",
        "\\sum_{i=1}^n y_i\n",
        "\\end{array}\\right)  \\qquad \\qquad (A1)\n",
        "$$\n",
        "Полученное выражение (A1) является решением системы уравнений и его можно уже использовать в качестве первого алгоритма оценки параметров модели. Ниже приведен код реализующий этот алгоритм."
      ],
      "metadata": {
        "id": "3umAfhG9oPmK"
      }
    },
    {
      "cell_type": "markdown",
      "source": [
        "## Код (1)"
      ],
      "metadata": {
        "id": "3VHqWVM9upZE"
      }
    },
    {
      "cell_type": "code",
      "source": [
        "def coefficient_reg_inv(x, y):\n",
        "    size = len(x)\n",
        "    # формируем и заполняем матрицу размерностью 2x2\n",
        "    A = np.empty((2, 2)) # создаем пустую матрицу, куда потом положим элементы обратной матрицы\n",
        "    A[[0], [0]] = sum((x[i])**2 for i in range(0,size)) # находим сумму квадратов элементов массива х\n",
        "    A[[0], [1]] = sum(x) # находим сумму элементов массива х\n",
        "    A[[1], [0]] = sum(x)\n",
        "    A[[1], [1]] = size # один из элментов матрица - количество элементов массива х\n",
        "    # находим обратную матрицу\n",
        "    A = np.linalg.inv(A)\n",
        "    # формируем и заполняем матрицу размерностью 2x1\n",
        "    C = np.empty((2, 1)) # сюда потом положим вектор на который будем умножать нашу обратную матрицу А\n",
        "    C[0] = sum((x[i]*y[i]) for i in range(0,size)) # сумма произведений членов матрицы х и у с одинаковыми индексами\n",
        "    C[1] = sum((y[i]) for i in range(0,size)) # сумма членов массива у\n",
        "\n",
        "    # умножаем матрицу на вектор\n",
        "    ww = np.dot(A, C)\n",
        "    return ww[1], ww[0] # возвращаем найденные параметры модели\n",
        "\n",
        "[w0_1, w1_1] = coefficient_reg_inv(x_scale, y_estimate) # запускаем функцию на сгенерированных ранее данных\n",
        "print(w0_1, w1_1)"
      ],
      "metadata": {
        "colab": {
          "base_uri": "https://localhost:8080/"
        },
        "id": "pry7aUjounIX",
        "outputId": "0d84174d-2c18-4175-dc31-2b2748997ff1"
      },
      "execution_count": null,
      "outputs": [
        {
          "output_type": "stream",
          "name": "stdout",
          "text": [
            "[0.81766082] [3.00986101]\n"
          ]
        }
      ]
    },
    {
      "cell_type": "markdown",
      "source": [
        "## Второй алгоритм оценки параметров модели"
      ],
      "metadata": {
        "id": "W3LYaBCtvmUs"
      }
    },
    {
      "cell_type": "markdown",
      "source": [
        "Выражение (A1) можно упростить, выполнив аналитический расчет обратной матрицы.\n",
        "\n",
        "Найти обратную матрицу можно с использованием, например, алгебраических дополнений. Для пояснения поиска обратной матрицы введем новую переменную A. Пусть\n",
        "$$\n",
        "A=\\left(\\begin{array}{cc}\n",
        "\\sum_{i=1}^n x_i^2 & \\sum_{i=1}^n x_i \\\\\n",
        "\\sum_{i=1}^n x_i & n\n",
        "\\end{array}\\right), \\text { тогда } A^{-1}=\\frac{1}{\\Delta} \\cdot(B)^T\n",
        "$$\n",
        "где $\\Delta=A_{11} A_{22}-A_{12} A_{21}-$ определитель матрицы $A$,\n",
        "$B=\\left(\\begin{array}{cc}A_{22} & -A_{21} \\\\ -A_{12} & A_{11}\\end{array}\\right)-$ матрица алгебраических дополнений, составленная из миноров $M=\\left(\\begin{array}{ll}A_{22} & A_{21} \\\\ A_{12} & A_{11}\\end{array}\\right)$ матрицы $A$,\n",
        "$(*)^T$ - транспонирование матрицы, указанной в скобках.\n",
        "Итоговое выражение для обратной матрицы представим в виде\n",
        "$$\n",
        "A^{-1}=\\frac{1}{A_{11} A_{22}-A_{12} A_{21}}\\left(\\begin{array}{cc}\n",
        "A_{22} & -A_{12} \\\\\n",
        "-A_{21} & A_{11}\n",
        "\\end{array}\\right) \\text {. }\n",
        "$$\n",
        "В (A1) подставим выражение для обратной матрицы ии после упрощения получим\n",
        "$$\n",
        "\\left(\\begin{array}{l}\n",
        "w_1^* \\\\\n",
        "w_0^*\n",
        "\\end{array}\\right)=\\left(\\begin{array}{c}\n",
        "\\frac{n \\cdot \\sum_{i=1}^n y_i x_i-\\sum_{i=1}^n x_i \\cdot \\sum_{i=1}^n y_i}{n \\cdot \\sum_{i=1}^n x_i^2-\\left(\\sum_{i=1}^n x_i\\right)^2} \\\\\n",
        "\\frac{-\\sum_{i=1}^n x_i \\cdot \\sum_{i=1}^n y_i x_i+\\sum_{i=1}^n x_i^2 \\cdot \\sum_{i=1}^n y_i}{n \\cdot \\sum_{i=1}^n x_i^2-\\left(\\sum_{i=1}^n x_i\\right)^2}\n",
        "\\end{array}\\right)  \\qquad \\qquad (A2)\n",
        "$$"
      ],
      "metadata": {
        "id": "8i4zEGV6wApX"
      }
    },
    {
      "cell_type": "markdown",
      "source": [
        "## Код (2)"
      ],
      "metadata": {
        "id": "tktbYxvWxuc7"
      }
    },
    {
      "cell_type": "code",
      "source": [
        "def coefficient_reg_inv_analit(x, y):\n",
        "    size = len(x)\n",
        "    # выполним расчет числителя первого элемента вектора\n",
        "    numerator_w1 = size*sum(x[i]*y[i] for i in range(0,size)) - sum(x)*sum(y)\n",
        "    # выполним расчет знаменателя (одинаковый для обоих элементов вектора)\n",
        "    denominator = size*sum((x[i])**2 for i in range(0,size)) - (sum(x))**2\n",
        "    # выполним расчет числителя второго элемента вектора\n",
        "    numerator_w0 = -sum(x)*sum(x[i]*y[i] for i in range(0,size)) + sum((x[i])**2 for i in range(0,size))*sum(y)\n",
        "\n",
        "    # расчет искомых коэффициентов\n",
        "    w1 = numerator_w1/denominator\n",
        "    w0 = numerator_w0/denominator\n",
        "    return w0, w1 # возвращаем параметры модели\n",
        "\n",
        "[w0_2, w1_2] = coefficient_reg_inv_analit(x_scale, y_estimate) # запускаем на наших данных\n",
        "print(w0_2, w1_2)"
      ],
      "metadata": {
        "colab": {
          "base_uri": "https://localhost:8080/"
        },
        "id": "qVy9SJ1txtiH",
        "outputId": "53709725-8ee4-4c2c-f11a-fc36868b64bc"
      },
      "execution_count": null,
      "outputs": [
        {
          "output_type": "stream",
          "name": "stdout",
          "text": [
            "[0.81766082] [3.00986101]\n"
          ]
        }
      ]
    },
    {
      "cell_type": "markdown",
      "source": [
        "## Третий алгоритм оценки параметров модели"
      ],
      "metadata": {
        "id": "ku79UE3Mx_cu"
      }
    },
    {
      "cell_type": "markdown",
      "source": [
        "Выполним дальнейшее упрощение полученного выражения (А2), чтобы получить более компактную форму записи. Умножим числитель и знаменатель каждого элемента матрицы на $ \\frac{1}{n^2} $ и введем новые переменные используя термины математической статистики\n",
        "\n",
        "1) $\\frac{1}{n} \\cdot \\sum_{i=1}^n x_i=\\bar{x}-$ оценка МО велнчнны $x$;\n",
        "\n",
        "2) $\\frac{1}{n} \\cdot \\sum_{i=1}^n y_i=\\bar{y}-$ оценка МО велнчнны $y$;\n",
        "\n",
        "3) $\\frac{1}{n} \\cdot \\sum_{i=1}^n y_i x_i=\\overline{x y}-$ оценка МО пронзведения велшчнн $x$ п $y$;\n",
        "\n",
        "4) $\\frac{1}{n} \\cdot \\sum_{i=1}^n x_i^2=\\overline{x^2}-$ оценка МО величнны $x^2$;\n",
        "\n",
        "5) $\\sqrt{\\frac{1}{n} \\cdot \\sum_{i=1}^n x_i^2-\\left(\\frac{1}{n} \\cdot \\sum_{i=1}^n x_i\\right)^2}=\\sqrt{\\overline{x^2}-\\bar{x}^2}=\\sigma_x$ - оценка СКО величнны $x$;\n",
        "\n",
        "6) $\\sqrt{\\frac{1}{n} \\cdot \\sum_{i=1}^n y_i^2-\\left(\\frac{1}{n} \\cdot \\sum_{i=1}^n y_i\\right)^2}=\\sigma_y-$ оценка СКО велнчнны $y$;\n",
        "\n",
        "С учётом введённых переменных искомый вектор $w^*$ примет вид\n",
        "$$\n",
        "\\left(\\begin{array}{l}\n",
        "w_1^* \\\\\n",
        "w_0^*\n",
        "\\end{array}\\right)=\\left(\\begin{array}{c}\n",
        "\\frac{\\overline{x y}-\\bar{x} \\cdot \\bar{y}}{\\sigma_x^2} \\\\\n",
        "\\frac{-\\bar{x} \\cdot \\overline{x y}+\\overline{x^2} \\cdot \\bar{y}}{\\sigma_x^2}\n",
        "\\end{array}\\right) .\n",
        "$$\n",
        "Упростим полученные выражения. Домножим весовой коэффищиент $w_1^*$ на $1=\\frac{\\sigma_y}{\\sigma_y}$.\n",
        "$$\n",
        "w_1^*=\\frac{\\overline{x y}-\\bar{x} \\cdot \\bar{y}}{\\sigma_x^2}=\\frac{\\overline{x y}-\\bar{x} \\cdot \\bar{y}}{\\sigma_x^2} \\cdot \\frac{\\sigma_y}{\\sigma_y}=\\left(\\frac{\\overline{x y}-\\bar{x} \\cdot \\bar{y}}{\\sigma_x \\sigma_y}\\right) \\cdot \\frac{\\sigma_y}{\\sigma_x}=r_{x y} \\cdot \\frac{\\sigma_y}{\\sigma_x}\n",
        "$$\n",
        "Прибавим к числителю $w_0^*$ свободного коэффициента $0=-\\bar{x}^2+\\bar{x}^2$\n",
        "$$\n",
        "\\begin{aligned}\n",
        "& w_0^*=\\frac{-\\bar{x} \\cdot \\overline{x y}+\\overline{x^2} \\cdot \\bar{y}}{\\sigma_x^2}=\\frac{-\\bar{x} \\cdot \\overline{x y}+\\left(\\overline{x^2}-\\bar{x}^2+\\bar{x}^2\\right) \\cdot \\bar{y}}{\\sigma_x^2}=\\frac{-\\bar{x} \\cdot \\overline{x y}+\\left(\\sigma_x^2+\\bar{x}^2\\right) \\cdot \\bar{y}}{\\sigma_x^2}= \\\\\n",
        "& =\\frac{-\\bar{x} \\cdot \\overline{x y}+\\sigma_x^2 \\cdot \\bar{y}+\\bar{x}^2 \\cdot \\bar{y}}{\\sigma_x^2}=\\frac{\\sigma_x^2 \\cdot \\bar{y}-\\left(\\bar{x} \\cdot \\overline{x y}-\\bar{x}^2 \\cdot \\bar{y}\\right)}{\\sigma_x^2}=\\bar{y}-\\frac{\\bar{x} \\cdot \\overline{x y}-\\bar{x}^2 \\cdot \\bar{y}}{\\sigma_x^2}= \\\\\n",
        "& =\\bar{y}-\\frac{\\bar{x} \\cdot(\\overline{x y}-\\bar{x} \\cdot \\bar{y})}{\\sigma_x^2} \\cdot \\frac{\\sigma_y}{\\sigma_y}=\\bar{y}-\\frac{\\bar{x} \\cdot(\\overline{x y}-\\bar{x} \\cdot \\bar{y})}{\\sigma_x \\sigma_y} \\cdot \\frac{\\sigma_y}{\\sigma_x}=\\bar{y}-\\bar{x} \\cdot r_{x y} \\cdot \\frac{\\sigma_y}{\\sigma_x}=\\bar{y}-\\bar{x} \\cdot w_1^*\n",
        "\\end{aligned}\n",
        "$$\n",
        "Таким образом итоговое выражение представим в виде:\n",
        "$$\n",
        "\\left\\{\\begin{array}{c}\n",
        "w_1^*=r_{x y}  \\cdot \\frac{\\sigma_y}{\\sigma_x} \\\\\n",
        "w_0^*=\\bar{y}-\\bar{x} \\cdot w_1^*\n",
        "\\end{array}\\right.  \\qquad \\qquad (A3)\n",
        "$$"
      ],
      "metadata": {
        "id": "wZZ63_u7yfd5"
      }
    },
    {
      "cell_type": "markdown",
      "source": [
        "## Код (3)"
      ],
      "metadata": {
        "id": "9bobjsgX0n2J"
      }
    },
    {
      "cell_type": "code",
      "source": [
        "def coefficient_reg_stat(x, y):\n",
        "    size = len(x)\n",
        "    avg_x = sum(x)/len(x) # оценка МО величины x\n",
        "    avg_y = sum(y)/len(y) # оценка МО величины y\n",
        "    # оценка МО величины x*y\n",
        "    avg_xy = sum(x[i]*y[i] for i in range(0,size))/size\n",
        "    # оценка СКО величины x\n",
        "    std_x = (sum((x[i] - avg_x)**2 for i in range(0,size))/size)**0.5\n",
        "    # оценка СКО величины y\n",
        "    std_y = (sum((y[i] - avg_y)**2 for i in range(0,size))/size)**0.5\n",
        "    # оценка коэффициента корреляции величин x и y\n",
        "    corr_xy = (avg_xy - avg_x*avg_y)/(std_x*std_y)\n",
        "\n",
        "    # расчет искомых коэффициентов\n",
        "    w1 = corr_xy*std_y/std_x\n",
        "    w0 = avg_y - avg_x*w1\n",
        "    return w0, w1\n",
        "\n",
        "[w0_3, w1_3] = coefficient_reg_stat(x_scale, y_estimate)\n",
        "print(w0_3, w1_3)"
      ],
      "metadata": {
        "colab": {
          "base_uri": "https://localhost:8080/"
        },
        "id": "-wD1JNul0nRW",
        "outputId": "1b89864c-7a58-4d29-9f37-273009737594"
      },
      "execution_count": null,
      "outputs": [
        {
          "output_type": "stream",
          "name": "stdout",
          "text": [
            "[0.81766082] [3.00986101]\n"
          ]
        }
      ]
    },
    {
      "cell_type": "markdown",
      "source": [
        "#  **Проверка с помощью библиотеки** *sklearn*"
      ],
      "metadata": {
        "id": "rUcNtj49SAgX"
      }
    },
    {
      "cell_type": "code",
      "source": [
        "# преобразование размерности массива x_scale для корректной работы model.fit\n",
        "x_scale = x_scale.reshape((-1,1))\n",
        "model = LinearRegression() # для создания линейной модели\n",
        "model.fit(x_scale, y_estimate) # создаем модель по нашим данным\n",
        "print(model.intercept_, model.coef_) # выводим коэффициенты модели"
      ],
      "metadata": {
        "colab": {
          "base_uri": "https://localhost:8080/"
        },
        "id": "xets39CpM7Yi",
        "outputId": "021ff10e-0e41-4f58-c206-43c84fb68911"
      },
      "execution_count": null,
      "outputs": [
        {
          "output_type": "stream",
          "name": "stdout",
          "text": [
            "[0.81766082] [[3.00986101]]\n"
          ]
        }
      ]
    },
    {
      "cell_type": "markdown",
      "source": [
        "# **Визуализация данных и расчетных значений**"
      ],
      "metadata": {
        "id": "WLGT0Dl1VEM6"
      }
    },
    {
      "cell_type": "code",
      "source": [
        "def predict(w0, w1, x_scale): # функция рассчета значений численности слонов по найденным коэффициентам\n",
        "    y_pred = [w0 + val*w1 for val in x_scale]\n",
        "    return y_pred\n",
        "\n",
        "y_predict = predict(w0_1, w1_1, x_scale)\n",
        "\n",
        "# Визуализируем данные и рассчитанные значения\n",
        "plt.plot(x_scale, y_estimate, 'o', label = 'Истинные значения')\n",
        "plt.plot(x_scale, y_predict, '*', label = 'Расчетные значения')\n",
        "plt.legend(fontsize=12)\n",
        "plt.xlabel('x (порядковый номер измерения)', fontsize=14)\n",
        "plt.ylabel('y (оценка численности популяции слонов)', fontsize=14)\n",
        "print()"
      ],
      "metadata": {
        "colab": {
          "base_uri": "https://localhost:8080/",
          "height": 363
        },
        "id": "cbxNOHPsNucl",
        "outputId": "baa31e79-9c6a-4280-df24-bb9c6ff8f102"
      },
      "execution_count": null,
      "outputs": [
        {
          "output_type": "stream",
          "name": "stdout",
          "text": [
            "\n"
          ]
        },
        {
          "output_type": "display_data",
          "data": {
            "text/plain": [
              "<Figure size 432x288 with 1 Axes>"
            ],
            "image/png": "[encoded data removed]"
          },
          "metadata": {
            "needs_background": "light"
          }
        }
      ]
    },
    {
      "cell_type": "markdown",
      "source": [
        "# **Выбросы**"
      ],
      "metadata": {
        "id": "HF3EU2PNbxx2"
      }
    },
    {
      "cell_type": "markdown",
      "source": [
        "Создадим выбросы - значения численности популяции слонов, которые сильно выбиваются среди остальных данных.\n",
        "\n",
        "К примеру возьмем 5 выбросов, которые будут находится через каддые 20 измерений и превосходить данные которые уже есть на этих местах на 200 особей"
      ],
      "metadata": {
        "id": "xpMgbc8zb3We"
      }
    },
    {
      "cell_type": "code",
      "source": [
        "ni = 5 # количество выбросов\n",
        "ind_impuls = np.arange(ni, data_size, 20) # индексы выбросов\n",
        "y_estimate_imp = y_estimate.copy() # выборка с выбросами\n",
        "for i in range(0, ni):\n",
        "    y_estimate_imp[ind_impuls[i]] += 200 # прибавляем к части значений 200 особей - это и будут выбросы\n",
        "\n",
        "[w0_imp, w1_imp] = coefficient_reg_stat(x_scale, y_estimate_imp) # ищем коэффициенты прямой для данных с выбросами\n",
        "y_pred_imp = predict(w0_imp, w1_imp, x_scale) # рассчитываем по уравнению прямой численность слонов\n",
        "# визуализируем\n",
        "plt.plot(x_scale, y_estimate_imp, 'o', label = 'Истинные значения')\n",
        "plt.plot(x_scale, y_pred_imp, '*', label = 'Расчетные значения')\n",
        "plt.legend(loc = 'best', fontsize=12)\n",
        "plt.xlabel('x (порядковый номер измерения)', fontsize=14)\n",
        "plt.ylabel('y (оценка температуры)', fontsize=14)\n",
        "print()"
      ],
      "metadata": {
        "colab": {
          "base_uri": "https://localhost:8080/",
          "height": 300
        },
        "id": "c3QDix7lc12X",
        "outputId": "5c592918-767c-4e51-8380-6965d7b30f7d"
      },
      "execution_count": null,
      "outputs": [
        {
          "output_type": "stream",
          "name": "stdout",
          "text": [
            "\n"
          ]
        },
        {
          "output_type": "display_data",
          "data": {
            "text/plain": [
              "<Figure size 432x288 with 1 Axes>"
            ],
            "image/png": "[encoded data removed]"
          },
          "metadata": {
            "needs_background": "light"
          }
        }
      ]
    },
    {
      "cell_type": "markdown",
      "source": [
        "На рисунке видно, что появление выбросов сместило, рассчитанную по выражению (А3) прямую в вверх. Модифицируем алгоритм оценки параметров модели за счет новой метрики, а именно оценки квадратов разности между измеренными и модельными данными, которая выполняется по выражению\n",
        "$$ SE_{i} = \\left(w_0^*+w_1^* x_i-y_i\\right)^2, i = \\overline{1,n} \\qquad \\qquad (2)$$"
      ],
      "metadata": {
        "id": "-ReeqmJO0HfM"
      }
    },
    {
      "cell_type": "code",
      "source": [
        "# Вычисляем квадраты разности между измеренными и модельными данными по формуле (2)\n",
        "SqErr = (y_pred_imp - y_estimate_imp)**2\n",
        "# Визуализируем рассчитанные значения\n",
        "plt.plot(x_scale, SqErr, 'o')\n",
        "plt.xlabel('x (порядковый номер измерения)', fontsize=14)\n",
        "plt.ylabel('Квадрат ошибки', fontsize=14)\n",
        "print()"
      ],
      "metadata": {
        "colab": {
          "base_uri": "https://localhost:8080/",
          "height": 300
        },
        "id": "eXld2m2K2UMo",
        "outputId": "77522ef8-e344-4f68-8202-3b25da9084ad"
      },
      "execution_count": null,
      "outputs": [
        {
          "output_type": "stream",
          "name": "stdout",
          "text": [
            "\n"
          ]
        },
        {
          "output_type": "display_data",
          "data": {
            "text/plain": [
              "<Figure size 432x288 with 1 Axes>"
            ],
            "image/png": "[encoded data removed]"
          },
          "metadata": {
            "needs_background": "light"
          }
        }
      ]
    },
    {
      "cell_type": "markdown",
      "source": [
        "Для устранения влияния помехи на оценки параметров модели, получаемых с использованием алгоритмов, дополнительно введем процедуру цензурирования (отбрасывания) данных, которые имеют большое значение квадрата ошибки (2). С новыми начальными условиями алгоритм оценки параметров модели теперь дополняется следующей последовательностью действий:\n",
        "\n",
        "1) отсортируем по возрастанию значения, полученные по выражению (2);\n",
        "\n",
        "2) удалим значение из анализируемого набора данных, имеющее максимальное\n",
        "отклонение от расчетного;\n",
        "\n",
        "3) выполним оценку параметров модели $w_0^*$ и $w_1^*$, используя оставшиеся значения из\n",
        "набора данных;\n",
        "\n",
        "4) этапы 2 и 3 выполняем для 10% исходного набора данных (с запасом).\n",
        "\n"
      ],
      "metadata": {
        "id": "T4zx4dMP0F8Z"
      }
    },
    {
      "cell_type": "code",
      "source": [
        "def censor_data(SqErr, nCensor):\n",
        "    # индексы отсортированного во возрастанию массива с квадратами ошибок\n",
        "    I = np.argsort(SqErr[:,0])\n",
        "    ind_imp = I[-nCensor:]\n",
        "    ind_imp = ind_imp[::-1] # разворот индексов массива\n",
        "    w0 = np.empty((nCensor, 1)) # пустой массив для w0 размером с массив nCensor (количество удаляемых выбросов) и типом int\n",
        "    w1 = np.empty((nCensor, 1)) # пустой массив для w1 размером с массив nCensor и типом int\n",
        "\n",
        "    for i in range(0,nCensor):\n",
        "        # цензурирование данных (удаляем выбросы по одному, пока не удалим nCensor выбросов)\n",
        "        x_scale_cens = np.delete(x_scale, ind_imp[0:i], 0)\n",
        "        y_estimate_imp_cens = np.delete(y_estimate_imp, ind_imp[0:i], 0)\n",
        "        # расчёт параметров прямой, после удаления каждого из выбросов\n",
        "        w0[i], w1[i] = coefficient_reg_stat(x_scale_cens, y_estimate_imp_cens)\n",
        "        y_pred2_cens = predict(w0[i], w1[i], x_scale_cens)\n",
        "    return w0, w1\n",
        "\n",
        "nCensor = 5 # количество отбрасываемых выбросов\n",
        "[w0_с, w1_с] = censor_data(SqErr, nCensor) # получаем коэффициенты прямой, удаляя по одному выбросу\n",
        "# Отображаем коэффициенты прямой без 1, 2 .. nCensor выбросов\n",
        "plt.plot(coef_true[0], coef_true[1], 'o', label = 'Истинные значения')\n",
        "plt.plot(w0_с, w1_с, '-*', label = 'Расчетные значения')\n",
        "plt.legend(loc = 'best', fontsize=12)\n",
        "plt.xlim((0.0, 18.0))\n",
        "plt.ylim((2.8, 3.1))\n",
        "plt.xlabel('w0', fontsize=18)\n",
        "plt.ylabel('w1', fontsize=18)\n",
        "print()"
      ],
      "metadata": {
        "colab": {
          "base_uri": "https://localhost:8080/",
          "height": 308
        },
        "id": "BtxaFrRi00-k",
        "outputId": "7e211739-9c46-4d2b-e92a-5df5941db4f0"
      },
      "execution_count": null,
      "outputs": [
        {
          "output_type": "stream",
          "name": "stdout",
          "text": [
            "\n"
          ]
        },
        {
          "output_type": "display_data",
          "data": {
            "text/plain": [
              "<Figure size 432x288 with 1 Axes>"
            ],
            "image/png": "[encoded data removed]"
          },
          "metadata": {
            "needs_background": "light"
          }
        }
      ]
    },
    {
      "cell_type": "markdown",
      "source": [
        "В результате работы рассматриваемого алгоритма видно, что по мере цензурирования помеховых данных параметры модели приближаются к истинным.\n",
        "\n",
        "Ниже приведен код, который рассчитывает и строит на графике прямую с использованием параметров модели, полученной на последнем шаге алгоритма c цензурированием. На этом рисунке видно, что использование дополнительной процедуры цензурирования данных на основе анализа остаточной суммы квадратов, позволяет улучшить согласование оцениваемых параметров с истинными."
      ],
      "metadata": {
        "id": "mJ2h5Dpy2xOp"
      }
    },
    {
      "cell_type": "code",
      "source": [
        "y_pred_censor = predict(w0_с[nCensor-1], w1_с[nCensor-1], x_scale) # получаем параметры прямой без учета выбросов\n",
        "# Отображаем данные и прямую с рассчитанными параметрами\n",
        "plt.plot(x_scale, y_estimate_imp, 'o', label = 'Истинные значения')\n",
        "plt.plot(x_scale, y_pred_censor, '*', label = 'Расчетные значения')\n",
        "plt.legend(loc = 'best', fontsize=12)\n",
        "plt.xlabel('X (порядковый номер измерения)', fontsize=14)\n",
        "plt.ylabel('Y (оценка температуры)', fontsize=14)\n",
        "print()"
      ],
      "metadata": {
        "colab": {
          "base_uri": "https://localhost:8080/",
          "height": 300
        },
        "id": "vBOa-8QJ2mUk",
        "outputId": "cd62f93e-62a6-4654-a227-b2c5980e6422"
      },
      "execution_count": null,
      "outputs": [
        {
          "output_type": "stream",
          "name": "stdout",
          "text": [
            "\n"
          ]
        },
        {
          "output_type": "display_data",
          "data": {
            "text/plain": [
              "<Figure size 432x288 with 1 Axes>"
            ],
            "image/png": "[encoded data removed]"
          },
          "metadata": {
            "needs_background": "light"
          }
        }
      ]
    },
    {
      "cell_type": "markdown",
      "source": [
        "# **Выводы**\n",
        "Рассмотрено применение метода наименьших квадратом на сгенерированных данных (численность слонов по годам).\n",
        "\n",
        "Описаны математические модели (от наиболее общей до наиболее частной) и алгоритмы оценки параметров модели.\n",
        "\n",
        "Произведена проверка результатов работы этих алгоритмов с помощью библиотеки *sklearn*.\n",
        "\n",
        "Был рассмотрен алгоритм оценки параметров модели, которая описывает процесс изменения численности слонов по годам при наличии помех (например, резкий скачок рождаемости, и затем резкое вымирание из-за неумения найти альтернативную пищу в связи с таким скачком). Показано, как зная логику построения алгоритма его можно модифицировать под изменившиеся условия и получить необходимый результат (оценку параметров модели).\n",
        "\n",
        "\n",
        "\n"
      ],
      "metadata": {
        "id": "VWHCUmfG6KXs"
      }
    }
  ]
}