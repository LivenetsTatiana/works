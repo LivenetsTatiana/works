{
  "cells": [
    {
      "cell_type": "markdown",
      "metadata": {
        "id": "view-in-github",
        "colab_type": "text"
      },
      "source": [
        "<a href=\"https://colab.research.google.com/github/LivenetsTatiana/works/blob/main/MachineLearning/BinaryClassification.ipynb\" target=\"_parent\"><img src=\"https://colab.research.google.com/assets/colab-badge.svg\" alt=\"Open In Colab\"/></a>"
      ]
    },
    {
      "cell_type": "markdown",
      "metadata": {
        "id": "l4OEinEYvwbm"
      },
      "source": [
        "### **<center>Введение в нейронные сети<center/>**\n",
        "**Цель**: написать и протестировать нейронную сеть\n",
        "\n",
        "**Задания:**\n",
        "1. Написать собственную  нейронную сети (без использования\n",
        "специализированных библиотек)\n",
        "\n",
        "2. Сгенерировать данные для бинарной классификации (например,\n",
        "определить по ширине и длине божья коровка перед нами или\n",
        "гусеница - не по фото, а по «меркам»)\n",
        "\n",
        "3. Построить график функции потерь\n",
        "\n",
        "4. Протестировать работу модели на тестовом наборе (3-5 объекта)\n",
        "\n"
      ]
    },
    {
      "cell_type": "code",
      "source": [
        "# необходимые библиотеки\n",
        "import numpy as np\n",
        "import matplotlib.pyplot as plt"
      ],
      "metadata": {
        "id": "3_9PiCKQAUMM"
      },
      "execution_count": null,
      "outputs": []
    },
    {
      "cell_type": "markdown",
      "metadata": {
        "id": "0zRKQ5gYqBc2"
      },
      "source": [
        "# **Нейрон**"
      ]
    },
    {
      "cell_type": "markdown",
      "source": [
        "Внутри нейрона происходят три операции. Сначала значения входов умножаются на веса:\n",
        "$$\n",
        "x_1 \\rightarrow x_1 * w_1, x_2 \\rightarrow x_2 * w_2\n",
        "$$\n",
        "Затем взвешенные входы складываются, и к ним прибавляется значение порога b:\n",
        "$$\n",
        "x_1 * w_1+x_2 * w_2+b\n",
        "$$\n",
        "Наконец, полученная сумма проходит через функцию активации:\n",
        "$$\n",
        "\\mathrm{y}=f\\left(x_1 * w_1+x_2 * w_2+b\\right)\n",
        "$$\n"
      ],
      "metadata": {
        "id": "k-N0FMqI4C2L"
      }
    },
    {
      "cell_type": "code",
      "source": [
        "def sigmoid(x):\n",
        "  # функция активации: f(x) = 1 / (1 + e^(-x))\n",
        "  return 1 / (1 + np.exp(-x))\n",
        "\n",
        "class Neuron:\n",
        "  # инициализация нейрона весами и пороговым значением\n",
        "  def __init__(self, weights, b):\n",
        "    self.weights = weights\n",
        "    self.b = b\n",
        "  # прямая связь (проход по нейрону и получение выхода из входных значений)\n",
        "  def feedforward(self, inputs):\n",
        "    # Умножаем входы на веса, прибавляем порог, затем используем функцию активации\n",
        "    total = np.dot(self.weights, inputs) + self.b\n",
        "    return sigmoid(total)\n",
        "\n",
        "# инициализация нейрона конкретными значениями весов и порога\n",
        "weights = np.array([3, 1])\n",
        "b = 1\n",
        "n = Neuron(weights, b)\n",
        "\n",
        "# получение выхода по двум входным значениям\n",
        "x = np.array([2, 3])\n",
        "print(n.feedforward(x))"
      ],
      "metadata": {
        "colab": {
          "base_uri": "https://localhost:8080/"
        },
        "id": "OWkLU1PyPgDX",
        "outputId": "225b7767-cceb-4f5d-983a-96c0b0de61be"
      },
      "execution_count": null,
      "outputs": [
        {
          "output_type": "stream",
          "name": "stdout",
          "text": [
            "0.9999546021312976\n"
          ]
        }
      ]
    },
    {
      "cell_type": "markdown",
      "source": [
        "# **Собираем нейронную сеть из нейронов**"
      ],
      "metadata": {
        "id": "LD522PBETBb2"
      }
    },
    {
      "cell_type": "markdown",
      "source": [
        "Нейронная сеть – это всего лишь несколько нейронов, соединенных вместе. Её слои:\n",
        "\n",
        "входной слой - скрытый слой - выходной слой\n",
        "\n",
        "Скрытый слой – это любой слой между входным (первым) слоем сети и выходным (последним). Скрытых слоев может быть много!"
      ],
      "metadata": {
        "id": "fUbIwY5UTJB_"
      }
    },
    {
      "cell_type": "code",
      "source": [
        "class NeuralNetwork:\n",
        "  '''\n",
        "  Нейронная сеть с:\n",
        "    - 2 входами\n",
        "    - скрытым слоем с 2 нейронами (h1, h2)\n",
        "    - выходным слоем с 1 нейроном (o1)\n",
        "  Все нейроны имеют одинаковые веса и пороги:\n",
        "    - w = [0, 1]\n",
        "    - b = 0\n",
        "  '''\n",
        "  def __init__(self):\n",
        "    weights = np.array([0, 1])\n",
        "    b = 0\n",
        "\n",
        "    # Используем класс Neuron из предыдущего раздела\n",
        "    self.h1 = Neuron(weights, b)\n",
        "    self.h2 = Neuron(weights, b)\n",
        "    self.o1 = Neuron(weights, b)\n",
        "\n",
        "  def feedforward(self, x):\n",
        "    out_h1 = self.h1.feedforward(x)\n",
        "    out_h2 = self.h2.feedforward(x)\n",
        "\n",
        "    # Входы для o1 - это выходы h1 и h2\n",
        "    out_o1 = self.o1.feedforward(np.array([out_h1, out_h2]))\n",
        "\n",
        "    return out_o1\n",
        "\n",
        "network = NeuralNetwork()\n",
        "x = np.array([2, 3])\n",
        "print(network.feedforward(x))"
      ],
      "metadata": {
        "colab": {
          "base_uri": "https://localhost:8080/"
        },
        "id": "APeDQxJKT-kF",
        "outputId": "1aaf1b46-d0fa-490a-90d0-065841d73fb9"
      },
      "execution_count": null,
      "outputs": [
        {
          "output_type": "stream",
          "name": "stdout",
          "text": [
            "0.7216325609518421\n"
          ]
        }
      ]
    },
    {
      "cell_type": "markdown",
      "source": [
        "# **Генерация данных**"
      ],
      "metadata": {
        "id": "XK0BipOmySHB"
      }
    },
    {
      "cell_type": "markdown",
      "source": [
        "Пусть у нас есть ширина и высота устройств и для каждой пары этих значений указано является ли устройство телефоном."
      ],
      "metadata": {
        "id": "sd49JTzTfhO3"
      }
    },
    {
      "cell_type": "code",
      "source": [
        "data = np.array([[5,13], [7, 14], [30, 5], [7, 70], [7.5, 15], [50, 50], [4, 5], [7, 8], [7.5, 16], [2, 3]]) # ширина и высота устройств\n",
        "y = [1, 1, 0, 0, 1, 0, 0, 0, 1, 0] # метка телефон это или нет для каждого устройства (1 - телефон, 0 - нет)"
      ],
      "metadata": {
        "id": "MhLXbh4wzBaE"
      },
      "execution_count": null,
      "outputs": []
    },
    {
      "cell_type": "markdown",
      "source": [
        "# **Обучение нейронной сети**"
      ],
      "metadata": {
        "id": "rPlpWlMs7-Fd"
      }
    },
    {
      "cell_type": "markdown",
      "source": [
        "Мы используем для расчета потерь среднюю квадратичную ошибку (mean squared error, MSE):\n",
        "$$\n",
        "M S E=\\frac{1}{n} \\sum_{i=1}^n\\left(y_{\\text {true }}-y_{\\text {pred }}\\right)^2\n",
        "$$\n",
        "Давайте рассмотрим все используемые переменные:\n",
        "- $\\boldsymbol{n}$ - это количество измерений, в нашем случае 10\n",
        "- $\\boldsymbol{y}$ представляет предсказываемое значение\n",
        "- $\\boldsymbol{y}_{\\text {true }}$ - истинное значение переменной (\"правильный ответ\").\n",
        "- $\\boldsymbol{y}_{\\text {pred }}$ - предсказанное значение переменной. Это то, что выдаст наша нейронная сеть.\n",
        "\n",
        "Чем лучшими будут наши предсказания, тем меньшими будут наши потери!\n",
        "\n",
        "Лучшие предсказания = меньшие потери.\n",
        "\n",
        "Обучение нейронной сети = минимизация ее потерь."
      ],
      "metadata": {
        "id": "ambYMWZq7_5F"
      }
    },
    {
      "cell_type": "markdown",
      "source": [
        "Мы можем записать функцию потерь как функцию от нескольких переменных:\n",
        "<center>$$L(w1, w2, w3, w4, w5, w6, b1, b2, b3)$$</center>\n",
        "\n",
        "Предположим, мы хотим отрегулировать w1. Как изменится значение потери L при изменении w1? На этот вопрос может ответить частная производная dL/dw1.\n",
        "\n",
        "Прежде всего, перепишем эту частную производную, воспользовавшись цепным правилом:\n",
        "$$\n",
        "\\frac{\\partial L}{\\partial w_1}=\\frac{\\partial L}{\\partial y_{\\text {pred }}} * \\frac{\\partial y_{\\text {pred }}}{\\partial w_1}\n",
        "$$\n",
        "\n",
        "Теперь давайте решим, что делать с $\\partial y_{\\text {pred }} /\\partial w_1$. Обозначая выходы нейронов, как прежде, $\\mathrm{h}_1, \\mathrm{~h}_2$ и $\\mathrm{o}_1$, получаем:\n",
        "$$\n",
        "y_{\\text {pred }}=o_1=f\\left(w_5 h_1+w_6 h_2+b_3\\right)\n",
        "$$\n",
        "$f()$ - это наша функция активации, сигмоида. Поскольку $\\mathbf{w}_1$ влияет только на $\\mathbf{h}_1$ (но не на $\\mathbf{h}_2$ ), мы можем снова использовать цепное правило и записать:\n",
        "$$\n",
        "\\begin{aligned}\n",
        "& \\frac{\\partial y_{\\text {pred }}}{\\partial w_1}=\\frac{\\partial y_{\\text {pred }}}{\\partial h_1} * \\frac{\\partial h_1}{\\partial w_1} \\\\\n",
        "& \\frac{\\partial y_{\\text {pred }}}{\\partial h_1}=w_5 * f \\prime\\left(w_5 h_1+w_6 h_2+b_3\\right)\n",
        "\\end{aligned}\n",
        "$$\n",
        "\n",
        "Мы можем сделать то же самое для $\\partial h_1 / \\partial w_1$, снова применяя цепное правило:\n",
        "$$\n",
        "\\begin{aligned}\n",
        "& h_1=f\\left(w_1 x_1+w_2 x_2+b_1\\right) \\\\\n",
        "& \\frac{\\partial h_1}{\\partial w_1}=x_1 * f \\prime\\left(w_1 x_1+w_2 x_2+b_1\\right)\n",
        "\\end{aligned}\n",
        "$$\n",
        "В этой формуле $\\mathbf{x}_1$ - это первый признак наших данных, а $\\mathbf{x}_2$ - второй.\n",
        "\n",
        "Вычислим производную сигмоиды:\n",
        "$$\n",
        "\\begin{gathered}\n",
        "f(x)=\\frac{1}{1+e^{-x}} \\\\\n",
        "f \\prime(x)=\\frac{e^{-x}}{\\left(1+e^{-x}\\right)^2}=f(x) *(1-f(x))\n",
        "\\end{gathered}\n",
        "$$\n",
        "Мы используем эту красивую форму для f'(x) позже.\n",
        "\n",
        "Мы сумели разложить $\\mathbf{d L} / \\mathbf{d w}_1$ на несколько частей, которые мы можем рассчитать:\n",
        "$$\n",
        "\\frac{\\partial L}{\\partial w_1}=\\frac{\\partial L}{\\partial y_{\\text {pred }}} * \\frac{\\partial y_{\\text {pred }}}{\\partial h_1} * \\frac{\\partial h_1}{\\partial w_1}\n",
        "$$\n",
        "Такой метод расчета частных производных \"от конца к началу\" называется **методом обратного распространения (backpropagation)**.\n"
      ],
      "metadata": {
        "id": "y1vTkRqf85SN"
      }
    },
    {
      "cell_type": "markdown",
      "source": [
        "**Обучение: стохастический градиентный спуск**\n",
        "\n",
        "Мы используем алгоритм оптимизации под названием стохастический градиентный спуск (stochastic gradient descent), который определит, как мы будем изменять наши веса и пороги для минимизации потерь. Фактически, он заключается в следующей формуле обновления:\n",
        "$$\n",
        "\\begin{aligned}\n",
        "& w_1 \\rightarrow w_1-\\eta \\frac{\\partial L}{\\partial w_1} \\\\\n",
        "& \\eta-\\text { константа, называемая скоростью обучения (learning rate). }\n",
        "\\end{aligned}\n",
        "$$\n",
        "Скорость обучения определяет, как быстро наша сеть учится. Все, что мы делаем - это вычитаем $\\eta*dL/dw$ из $ \\mathrm{w}_1$ :\n",
        "- Если $\\mathbf{d L} / \\mathbf{d w}_1$ положительна, $\\mathbf{w}_1$ уменьшится, что уменьшит $\\mathbf{L}$.\n",
        "- Если $\\mathbf{d L} / \\mathbf{d w}_1$ отрицательна, $\\mathbf{w}_1$ увеличится, что также уменьшит $\\mathbf{L}$.\n",
        "\n",
        "Если мы сделаем то же самое для каждого веса и порога в сети, потери будут постепенно уменьшаться, и наша сеть будет выдавать более точные результаты.\n",
        "Процесс обучения сети будет выглядеть примерно так:\n",
        "\n",
        "1. Выбираем одно наблюдение из набора данных. Именно то, что мы работаем только с одним наблюдением, делает наш градиентный спуск стохастическим.\n",
        "2. Считаем все частные производные функции потерь по всем весам и порогам (dL/dw1, dL/dw2 и т.д.)\n",
        "3. Используем формулу обновления, чтобы обновить значения каждого веса и порога.\n",
        "4. Снова переходим к шагу 1."
      ],
      "metadata": {
        "id": "7w-peqGADjWx"
      }
    },
    {
      "cell_type": "code",
      "source": [
        "def deriv_sigmoid(x):\n",
        "  # Производная сигмоиды: f'(x) = f(x) * (1 - f(x))\n",
        "  fx = sigmoid(x)\n",
        "  return fx * (1 - fx)\n",
        "\n",
        "def mse_loss(y_true, y_pred):\n",
        "  # y_true и y_pred - массивы numpy одинаковой длины.\n",
        "  return ((y_true - y_pred) ** 2).mean()\n",
        "\n",
        "class Network:\n",
        "  '''\n",
        "  Нейронная сеть с:\n",
        "    - 2 входами\n",
        "    - скрытым слоем с 2 нейронами (h1, h2)\n",
        "    - выходной слой с 1 нейроном (o1)\n",
        "  '''\n",
        "  def __init__(self):\n",
        "    # Веса\n",
        "    self.w1 = np.random.normal()\n",
        "    self.w2 = np.random.normal()\n",
        "    self.w3 = np.random.normal()\n",
        "    self.w4 = np.random.normal()\n",
        "    self.w5 = np.random.normal()\n",
        "    self.w6 = np.random.normal()\n",
        "\n",
        "    # Пороги\n",
        "    self.b1 = np.random.normal()\n",
        "    self.b2 = np.random.normal()\n",
        "    self.b3 = np.random.normal()\n",
        "\n",
        "  def feedforward(self, x):\n",
        "    # x is a numpy array with 2 elements.\n",
        "    h1 = sigmoid(self.w1 * x[0] + self.w2 * x[1] + self.b1)\n",
        "    h2 = sigmoid(self.w3 * x[0] + self.w4 * x[1] + self.b2)\n",
        "    o1 = sigmoid(self.w5 * h1 + self.w6 * h2 + self.b3)\n",
        "    return o1\n",
        "\n",
        "  def train(self, data, y):\n",
        "    '''\n",
        "    - data - массив numpy (n x 2) numpy, n = к-во наблюдений в наборе.\n",
        "    - y - массив numpy с n элементами.\n",
        "      Элементы y соответствуют наблюдениям в data.\n",
        "    '''\n",
        "    learn_rate = 0.1\n",
        "    epochs = 1000 # сколько раз пройти по всему набору данных\n",
        "    ep =[]\n",
        "    los = []\n",
        "    for epoch in range(epochs):\n",
        "      for x, y_true in zip(data, y):\n",
        "        # --- Прямой проход (эти значения нам понадобятся позже)\n",
        "        sum_h1 = self.w1 * x[0] + self.w2 * x[1] + self.b1\n",
        "        h1 = sigmoid(sum_h1)\n",
        "\n",
        "        sum_h2 = self.w3 * x[0] + self.w4 * x[1] + self.b2\n",
        "        h2 = sigmoid(sum_h2)\n",
        "\n",
        "        sum_o1 = self.w5 * h1 + self.w6 * h2 + self.b3\n",
        "        o1 = sigmoid(sum_o1)\n",
        "        y_pred = o1\n",
        "\n",
        "        # --- Считаем частные производные.\n",
        "        # --- Имена: d_L_d_w1 = \"частная производная L по w1\"\n",
        "        d_L_d_ypred = -2 * (y_true - y_pred)\n",
        "\n",
        "        # Нейрон o1\n",
        "        d_ypred_d_w5 = h1 * deriv_sigmoid(sum_o1)\n",
        "        d_ypred_d_w6 = h2 * deriv_sigmoid(sum_o1)\n",
        "        d_ypred_d_b3 = deriv_sigmoid(sum_o1)\n",
        "\n",
        "        d_ypred_d_h1 = self.w5 * deriv_sigmoid(sum_o1)\n",
        "        d_ypred_d_h2 = self.w6 * deriv_sigmoid(sum_o1)\n",
        "\n",
        "        # Нейрон h1\n",
        "        d_h1_d_w1 = x[0] * deriv_sigmoid(sum_h1)\n",
        "        d_h1_d_w2 = x[1] * deriv_sigmoid(sum_h1)\n",
        "        d_h1_d_b1 = deriv_sigmoid(sum_h1)\n",
        "\n",
        "        # Нейрон h2\n",
        "        d_h2_d_w3 = x[0] * deriv_sigmoid(sum_h2)\n",
        "        d_h2_d_w4 = x[1] * deriv_sigmoid(sum_h2)\n",
        "        d_h2_d_b2 = deriv_sigmoid(sum_h2)\n",
        "\n",
        "        # --- Обновляем веса и пороги\n",
        "        # Нейрон h1\n",
        "        self.w1 -= learn_rate * d_L_d_ypred * d_ypred_d_h1 * d_h1_d_w1\n",
        "        self.w2 -= learn_rate * d_L_d_ypred * d_ypred_d_h1 * d_h1_d_w2\n",
        "        self.b1 -= learn_rate * d_L_d_ypred * d_ypred_d_h1 * d_h1_d_b1\n",
        "\n",
        "        # Нейрон h2\n",
        "        self.w3 -= learn_rate * d_L_d_ypred * d_ypred_d_h2 * d_h2_d_w3\n",
        "        self.w4 -= learn_rate * d_L_d_ypred * d_ypred_d_h2 * d_h2_d_w4\n",
        "        self.b2 -= learn_rate * d_L_d_ypred * d_ypred_d_h2 * d_h2_d_b2\n",
        "\n",
        "        # Нейрон o1\n",
        "        self.w5 -= learn_rate * d_L_d_ypred * d_ypred_d_w5\n",
        "        self.w6 -= learn_rate * d_L_d_ypred * d_ypred_d_w6\n",
        "        self.b3 -= learn_rate * d_L_d_ypred * d_ypred_d_b3\n",
        "\n",
        "      # --- Считаем полные потери в конце каждой эпохи\n",
        "\n",
        "      if epoch % 10 == 0:\n",
        "        y_preds = np.apply_along_axis(self.feedforward, 1, data)\n",
        "        loss = mse_loss(y, y_preds)\n",
        "        ep.append(epoch)\n",
        "        los.append(loss)\n",
        "        #print(\"Epoch %d loss: %.3f\" % (epoch, loss))\n",
        "    return ep, los"
      ],
      "metadata": {
        "id": "kboU45EX0BUg"
      },
      "execution_count": null,
      "outputs": []
    },
    {
      "cell_type": "code",
      "source": [
        "network = Network()\n",
        "epochs, loss = network.train(data, y)\n",
        "plt.plot(epochs, loss)\n",
        "plt.title(\"Потери нейронной сети по мере обучения\")\n",
        "plt.show()"
      ],
      "metadata": {
        "colab": {
          "base_uri": "https://localhost:8080/",
          "height": 452
        },
        "id": "1qFPGDEXz3le",
        "outputId": "5ea602d1-2b5f-4c77-9409-7bcbde32aa1c"
      },
      "execution_count": null,
      "outputs": [
        {
          "output_type": "display_data",
          "data": {
            "text/plain": [
              "<Figure size 640x480 with 1 Axes>"
            ],
            "image/png": "[encoded data removed]"
          },
          "metadata": {}
        }
      ]
    },
    {
      "cell_type": "markdown",
      "source": [
        "# **Предсказания**"
      ],
      "metadata": {
        "id": "v1HB04Y-Irqw"
      }
    },
    {
      "cell_type": "code",
      "source": [
        "# Делаем пару предсказаний\n",
        "a = np.array([7, 15])\n",
        "b = np.array([8, 8])\n",
        "c = np.array([8, 4])\n",
        "# если значение ближе к 0, то это 0, если к 1 - 1\n",
        "print(\"a: %.3f\" % network.feedforward(a)) # на выходе получаем, что это телефон - верно\n",
        "print(\"b: %.3f\" % network.feedforward(b)) # на выходе получаем, что это не телефон - верно\n",
        "print(\"b: %.3f\" % network.feedforward(b)) # на выходе получаем, что это не телефон - верно"
      ],
      "metadata": {
        "colab": {
          "base_uri": "https://localhost:8080/"
        },
        "id": "Zu2jwRijIrMn",
        "outputId": "1aa502ce-9057-404c-9be1-5c968384bb94"
      },
      "execution_count": null,
      "outputs": [
        {
          "output_type": "stream",
          "name": "stdout",
          "text": [
            "a: 0.797\n",
            "b: 0.018\n",
            "b: 0.018\n"
          ]
        }
      ]
    },
    {
      "cell_type": "markdown",
      "metadata": {
        "id": "1ibRIyzlrMsd"
      },
      "source": [
        "# **Вывод**"
      ]
    },
    {
      "cell_type": "markdown",
      "metadata": {
        "id": "32T5Ede7DrRr"
      },
      "source": [
        "Без использования специализированных библиотек построена нейронная сеть с 2 входами, 2 нейронами в скрытом слое и 1 нейроном в выходном слое для определения по ширине и высоте устройства является ли оно телефоном.\n",
        "\n",
        "Затем нейронная сеть была обучена - подбирались веса и пороги нейронов, так, чтобы ошибка при классификации была минимальной (потери сводились к минимуму). В качестве алгоритма оптимизации использован стохастический градиентный спуск, а расчет потерь осуществлялся с помощью средней квадратичной ошибки.\n",
        "\n",
        "После обучения нейронная сеть протестирована на 3 объектах и правильно определила все 3 объекта, как телефон, не телефон и не телефон."
      ]
    }
  ],
  "metadata": {
    "colab": {
      "provenance": [],
      "toc_visible": true,
      "mount_file_id": "1iUP7o8GuAkhGgplo9_I0cWx0jSEg5WIJ",
      "authorship_tag": "ABX9TyP/GqFMnmZUS3+S1dsj1Hv0",
      "include_colab_link": true
    },
    "kernelspec": {
      "display_name": "Python 3",
      "name": "python3"
    },
    "language_info": {
      "name": "python"
    }
  },
  "nbformat": 4,
  "nbformat_minor": 0
}